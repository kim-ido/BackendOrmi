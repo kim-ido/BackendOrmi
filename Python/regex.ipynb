{
  "nbformat": 4,
  "nbformat_minor": 0,
  "metadata": {
    "colab": {
      "provenance": []
    },
    "kernelspec": {
      "name": "python3",
      "display_name": "Python 3"
    },
    "language_info": {
      "name": "python"
    }
  },
  "cells": [
    {
      "cell_type": "markdown",
      "source": [
        "## 정규표현식\n",
        "* Anchors (처음과 끝)\n",
        "    ```\n",
        "    /^hello/gm : 처음에 hello\n",
        "    /hello$/gm : 끝에 hello\n",
        "    ```\n",
        "\n",
        "* dot (모든 문자)\n",
        "    ```\n",
        "    /.ello/gm : hello, Hello, vello\n",
        "    /./gm : 모든 문자열(*과 같은 역할)\n",
        "    /....../gm : 모든 6개의 문자열\n",
        "    ```\n",
        "\n",
        "* 대괄호 (택1)\n",
        "    ```\n",
        "    /h[eay]llo/gm : 대괄호 안에 문자는 문자 1개에 해당!\n",
        "    /h[ea]l../gm : 총 5개의 문자\n",
        "    ```\n",
        "\n",
        "* 대쉬 (범위)\n",
        "    ```\n",
        "    /h[a-f]llo/gm\n",
        "    /[a-zA-Z0-9]/gm : 모든 알파뱃과 숫자를 찾음\n",
        "    /[^a-zA-Z0-9]/gm : 나머지 문자열을 찾음\n",
        "    ```\n",
        "\n",
        "* 캐럿(caret) (대괄호 안에 들어가면 부정)\n",
        "    * 아래 경우 a와 e가 모두 부정\n",
        "        ```\n",
        "        /h[^ae]llo/gm : 대괄호 안에 있다면 not에 의미\n",
        "        ```\n",
        "\n",
        "* 소괄호 (서브패턴, 그룹)\n",
        "    * 패턴으로 외우시는 것보다 다양한 예제로 습득하시기를 권해드립니다.\n",
        "    ```\n",
        "    /(on|ues|rida)/gm : 그룹 1로 3개 중 매칭되는 패턴 찾음\n",
        "    ```\n",
        "\n",
        "* 수량자\n",
        "    ```\n",
        "    _* : 앞에 있는 문자가 0개 ~ N개\n",
        "    _+ : 앞에 있는 문자가 1개 ~ N개\n",
        "    _? : 앞에 있는 문자가 0개 ~ 1개\n",
        "\n",
        "    {3} : 3개\n",
        "    {3,} : 3개 이상\n",
        "    {1,3} : 1개 ~ 3개\n",
        "\n",
        "    _* : 앞에 있는 문자가 0개 ~ N개 ({0,})\n",
        "    _+ : 앞에 있는 문자가 1개 ~ N개({1,})\n",
        "    _? : 앞에 있는 문자가 0개 ~ 1개 ({0,1})\n",
        "\n",
        "    /[0-9]{3}[-.* ][0-9]{4}[-.* ][0-9]{4}/gm\n",
        "    /[0-9a-zA-Z]{2,3}[-.* ][0-9]{3,4}[-.* ][0-9]{4}/gm\n",
        "    /[0-9a-zA-Z]+@[0-9a-zA-Z]+.[a-zA-Z]+/gm\n",
        "    ```\n",
        "\n",
        "* 캐릭터 클래스\n",
        "    ```\n",
        "    /\\w/gm : 워드\n",
        "    /\\w{5} /gm : 5개의 글자와 스페이스 하나\n",
        "    /\\W/gm : not 워드\n",
        "    /\\d/gm : 숫자\n",
        "    /\\D/gm : not 숫자\n",
        "    /\\s/gm : 스페이스\n",
        "    /\\S/gm : not 스페이스\n",
        "    ```\n",
        "\n",
        "* 이스케이프문자\n",
        "    ```\n",
        "    /\\[.*]/gm : 대괄호([]) 안에 감싸여진 문자열\n",
        "    /\\(.*\\)/gm : 소괄호 안에 감싸여진 문자열\n",
        "    /\\\\.*\\//gm : 이미 사용되고 있는 특수문자로 감싸여진 문자열\n",
        "    /-.*-/gm : 이스케이프 문자를 사용할 필요가 없는 경우\n",
        "    /\\^\\^/gm : 이스케이프 문자가 필요한 경우\n",
        "    /:\\)/gm : 이스케이프 문자가 필요한 경우\n",
        "    ```\n",
        "\n",
        "\n",
        "* (연습) 전화번호\n",
        "    ```\n",
        "    010[-,. ]?[0-9]{4}[-,. ]?[0-9]{4}\n",
        "    010([-,. ]?[0-9]{4}){2}\n",
        "    ```\n",
        "\n"
      ],
      "metadata": {
        "id": "uFTglpX6TJH8"
      }
    },
    {
      "cell_type": "markdown",
      "source": [
        "- https://docs.python.org/ko/3/library/re.html"
      ],
      "metadata": {
        "id": "Gn0d5xZzA84l"
      }
    },
    {
      "cell_type": "markdown",
      "source": [
        "* 정규표현식에서 자주 사용되는 패턴\n",
        "    - 아래와 같이 2가지 방법으로 사용할 수 있습니다.\n",
        "    ```\n",
        "    # 1\n",
        "    p = re.compile(r'([0-9]|10)([SDT])([\\*\\#]?)')\n",
        "    p.findall('1S2D*3T')\n",
        "\n",
        "    # 2\n",
        "    re.findall(r'([0-9]|10)([SDT])([\\*\\#]?)', '1S2D*3T')\n",
        "    ```\n",
        "    * compile() : 패턴 컴파일\n",
        "    * match() : 문자열의 앞 부분이 매치되는가를 체크, 추출\n",
        "    * sub() : 매치된 부분을 치환\n",
        "    * search() : 선두에 한해서 매치하는지를 체크, 추출\n",
        "    * findall() : 매치된 부분 모두 리스트 반환\n",
        "    * finditer() : 정규식과 매치되는 모든 문자열(substring)을 반복 가능한 객체로 리턴한다.\n",
        "    * spilt() : 정규표현 패턴으로 문자열을 분할\n",
        "\n",
        "* 반환 객체의 값\n",
        "    * group() : 매치된 문자열\n",
        "    * groups() : 매치된 문자열 전체\n",
        "    * start() : 매치된 문자열의 시작 위치\n",
        "    * end() : 매치된 문자열의 끝 위치\n",
        "    * span() : 매치된 문자열의 시작과 끝\n",
        "\n",
        "* 컴파일 옵션(플래그)\n",
        "    * 사용 예\n",
        "    ```\n",
        "    re.compile('[a-z]+', re.I)\n",
        "    ```\n",
        "    * re.DOTALL, re.S : 줄바꿈 문자까지 모두 매칭\n",
        "    * re.IGNORECASE, re.I : 대소문자 구분하지 않음\n",
        "    * re.MULTILINE, re.M : ^, & 등의 매칭 패턴을 라인마다 적용\n",
        "    * re.VERBOSE, re.X : 아래와 같이 #으로 주석문을 사용할 수 있음\n",
        "    ```\n",
        "    a = re.compile(r\"\"\"\\d +  # the integral part\n",
        "                   \\.    # the decimal point\n",
        "                   \\d *  # some fractional digits\"\"\", re.X)\n",
        "    b = re.compile(r\"\\d+\\.\\d*\")\n",
        "    ```\n",
        "\n",
        "* tip\n",
        "    * 같은 패턴입니다.\n",
        "    ```\n",
        "    re.compile('\\\\\\\\section')\n",
        "    re.compile(r'\\\\section')\n",
        "    ```\n",
        "    * {}를 표현하고 싶을 때에는 중괄호 2개, 또는 때에 따라 3개가 필요합니다.\n",
        "    ```\n",
        "    re.compile(f'{{section}}')\n",
        "    ```"
      ],
      "metadata": {
        "id": "NfD5hrDpA7Zl"
      }
    },
    {
      "cell_type": "markdown",
      "source": [
        "## compile"
      ],
      "metadata": {
        "id": "XKAXE1XLTpGK"
      }
    },
    {
      "cell_type": "code",
      "source": [
        "import re\n",
        "\n",
        "p = re.compile('h[eao]llo')"
      ],
      "metadata": {
        "id": "ZcPjcoXTTuXI"
      },
      "execution_count": null,
      "outputs": []
    },
    {
      "cell_type": "code",
      "source": [
        "text = '''hello\n",
        "hallo\n",
        "hollo\n",
        "'''\n",
        "text"
      ],
      "metadata": {
        "id": "J7-E3iRJTvIf"
      },
      "execution_count": null,
      "outputs": []
    },
    {
      "cell_type": "markdown",
      "source": [
        "## match"
      ],
      "metadata": {
        "id": "4vR8rxgWTv3F"
      }
    },
    {
      "cell_type": "code",
      "source": [
        "# 실무에서는 특정한 패턴이 존재하는지만 사용하는 것으로 많이 사용합니다.\n",
        "# 찾아서 무언가를 하는 것은 findall이나 sub 이런 메서드를 많이 사용합니다."
      ],
      "metadata": {
        "id": "OeeWQ_XpTx13"
      },
      "execution_count": null,
      "outputs": []
    },
    {
      "cell_type": "code",
      "execution_count": null,
      "metadata": {
        "id": "BP8ZC15x1XNV"
      },
      "outputs": [],
      "source": [
        "import re\n",
        "\n",
        "p = re.compile('h[eao]llo')\n",
        "p.match('hello hallo hollo hillo hallo')"
      ]
    },
    {
      "cell_type": "code",
      "source": [
        "result = p.match('hello hallo hollo hillo hallo')\n",
        "result.group(0)\n",
        "# result.group(1)"
      ],
      "metadata": {
        "id": "-uwSbPj2DVsl"
      },
      "execution_count": null,
      "outputs": []
    },
    {
      "cell_type": "code",
      "source": [
        "import re\n",
        "\n",
        "p = re.compile('(\\w+) (\\w+) (\\w+)')\n",
        "result = p.match('hello hallo hollo hillo hallo')\n",
        "result.group(0) # 전체 그룹\n",
        "result.group(1) # 그룹1\n",
        "result.group(2) # 그룹2\n",
        "result.group(3) # 그룹3"
      ],
      "metadata": {
        "id": "dImWuUchHCb2"
      },
      "execution_count": null,
      "outputs": []
    },
    {
      "cell_type": "code",
      "source": [
        "import re\n",
        "\n",
        "p = re.compile('(\\w+) (\\w+) (\\w+)')\n",
        "result = p.match('hello hallo hollo hillo hallo')\n",
        "result.group(1, 2) # 그룹1, 그룹2"
      ],
      "metadata": {
        "id": "3EPveW20HDn1"
      },
      "execution_count": null,
      "outputs": []
    },
    {
      "cell_type": "code",
      "source": [
        "import re\n",
        "\n",
        "p = re.compile('h[eao]llo')\n",
        "p.match('hillo hallo hollo hillo hallo') \n",
        "# None값이 출력된 것입니다.\n",
        "# 문자열 압쪽이 매칭이 안된 것입니다."
      ],
      "metadata": {
        "id": "JFGxHoG3HEtT"
      },
      "execution_count": null,
      "outputs": []
    },
    {
      "cell_type": "code",
      "source": [
        "# 아래 문법은 match 말고도 다른 문법에서도 사용이 가능합니다.\n",
        "m = re.match(r\"(?P<first_name>\\w+) (?P<last_name>\\w+)\", \"Malcolm Reynolds\")\n",
        "m.group('first_name'), m.group('last_name')"
      ],
      "metadata": {
        "id": "uWiwu3XLIN9S"
      },
      "execution_count": null,
      "outputs": []
    },
    {
      "cell_type": "code",
      "source": [
        "m[0]"
      ],
      "metadata": {
        "id": "HLAlAhe3IC2v"
      },
      "execution_count": null,
      "outputs": []
    },
    {
      "cell_type": "code",
      "source": [
        "m[1], m[2]"
      ],
      "metadata": {
        "id": "R1NeOu39JE4Y"
      },
      "execution_count": null,
      "outputs": []
    },
    {
      "cell_type": "code",
      "source": [
        "m = re.match(r\"010-(?P<앞자리>[0-9]{4})-(?P<뒷자리>[0-9]{4})\", \"010-1000-2000\")\n",
        "m.group('앞자리'), m.group('뒷자리')"
      ],
      "metadata": {
        "id": "QGkEk3RHJQEg"
      },
      "execution_count": null,
      "outputs": []
    },
    {
      "cell_type": "code",
      "source": [
        "# 실제로 실무에서 match 사용되는 패턴 (공식문서)\n",
        "valid = re.compile(r\"^[a2-9tjqk]{5}$\")\n",
        "\n",
        "def displaymatch(match):\n",
        "    if match is None:\n",
        "        return None\n",
        "    return '<Match: %r, groups=%r>' % (match.group(), match.groups())\n",
        "\n",
        "displaymatch(valid.match(\"akt5q\"))"
      ],
      "metadata": {
        "id": "Pvb_vlGEKtw7"
      },
      "execution_count": null,
      "outputs": []
    },
    {
      "cell_type": "code",
      "source": [
        "# 실제로 실무에서 match 사용되는 패턴 (공식문서)\n",
        "valid = re.compile(r\"^[a2-9tjqk]{5}$\")\n",
        "\n",
        "def displaymatch(match):\n",
        "    if match is None:\n",
        "        return None\n",
        "    return '해당 패턴에 매칭됩니다!'\n",
        "\n",
        "displaymatch(valid.match(\"akt5q\"))"
      ],
      "metadata": {
        "id": "dUGSbGUYT8PO"
      },
      "execution_count": null,
      "outputs": []
    },
    {
      "cell_type": "markdown",
      "source": [
        "## sub"
      ],
      "metadata": {
        "id": "BFQTOIpIT9KN"
      }
    },
    {
      "cell_type": "markdown",
      "source": [
        "* str에 replace 메서드와 같은 기능\n",
        "* 정규표현식을 사용할 수 있는 코드 "
      ],
      "metadata": {
        "id": "OLhszF1XH-ZM"
      }
    },
    {
      "cell_type": "code",
      "source": [
        "# 문제 링크 : https://school.programmers.co.kr/learn/courses/30/lessons/120849"
      ],
      "metadata": {
        "id": "AjSOtCI2T-5h"
      },
      "execution_count": null,
      "outputs": []
    },
    {
      "cell_type": "code",
      "source": [
        "def solution(my_string):\n",
        "    return my_string.replace('a', '').replace('e', '').replace('i', '').replace('o', '').replace('u', '')"
      ],
      "metadata": {
        "id": "RCwn38tJUA_9"
      },
      "execution_count": null,
      "outputs": []
    },
    {
      "cell_type": "code",
      "source": [
        "def solution(my_string):\n",
        "    string = 'aeiou'\n",
        "    for i in string:\n",
        "        my_string = my_string.replace(i, '')\n",
        "    return my_string"
      ],
      "metadata": {
        "id": "Q9v6qOHtUCBu"
      },
      "execution_count": null,
      "outputs": []
    },
    {
      "cell_type": "code",
      "source": [
        "import re\n",
        "\n",
        "def solution(my_string):\n",
        "    return re.sub(r\"[aeiou]\", \"\", my_string)"
      ],
      "metadata": {
        "id": "t-MUWmA4UCoR"
      },
      "execution_count": null,
      "outputs": []
    },
    {
      "cell_type": "code",
      "source": [
        "import re\n",
        "\n",
        "solution = lambda my_string: re.sub(r\"[aeiou]\", \"\", my_string)"
      ],
      "metadata": {
        "id": "XuW07R8iUDRm"
      },
      "execution_count": null,
      "outputs": []
    },
    {
      "cell_type": "code",
      "source": [
        "# 문제 링크 : https://school.programmers.co.kr/learn/courses/30/lessons/120826"
      ],
      "metadata": {
        "id": "EH0AWJ0EIBEB"
      },
      "execution_count": null,
      "outputs": []
    },
    {
      "cell_type": "code",
      "source": [
        "def solution(my_string, letter):\n",
        "    for i in letter:\n",
        "        my_string = my_string.replace(i, '')\n",
        "    return my_string"
      ],
      "metadata": {
        "id": "3JPeO8MuIB5L"
      },
      "execution_count": null,
      "outputs": []
    },
    {
      "cell_type": "code",
      "source": [
        "import re\n",
        "\n",
        "def solution(my_string, letter):\n",
        "    return re.sub(letter, \"\", my_string)"
      ],
      "metadata": {
        "id": "JWKVECFPIC50"
      },
      "execution_count": null,
      "outputs": []
    },
    {
      "cell_type": "code",
      "source": [
        "import re\n",
        "\n",
        "solution = lambda my_string, letter: re.sub(letter, \"\", my_string)"
      ],
      "metadata": {
        "id": "fbTHvNJYIDpX"
      },
      "execution_count": null,
      "outputs": []
    },
    {
      "cell_type": "code",
      "source": [
        "# 문제 링크 : https://school.programmers.co.kr/learn/courses/30/lessons/120851"
      ],
      "metadata": {
        "id": "Z0KwowwTIFDK"
      },
      "execution_count": null,
      "outputs": []
    },
    {
      "cell_type": "code",
      "source": [
        "def solution(my_string):\n",
        "    s = 0\n",
        "    for i in my_string:\n",
        "        if i.isdigit():\n",
        "            s += int(i)\n",
        "    return s"
      ],
      "metadata": {
        "id": "jh6zG1qoIFc8"
      },
      "execution_count": null,
      "outputs": []
    },
    {
      "cell_type": "code",
      "source": [
        "def solution(my_string):\n",
        "    return sum([int(i) for i in my_string if i.isdigit()])"
      ],
      "metadata": {
        "id": "Jj-dGFmlIGgl"
      },
      "execution_count": null,
      "outputs": []
    },
    {
      "cell_type": "code",
      "source": [
        "def solution(my_string):\n",
        "    return sum(map(int, filter(lambda x:x.isdigit(), my_string)))"
      ],
      "metadata": {
        "id": "x_G0gO0CIHG0"
      },
      "execution_count": null,
      "outputs": []
    },
    {
      "cell_type": "code",
      "source": [
        "import re\n",
        "\n",
        "my_string = \"aAb1B2cC34oOp\"\n",
        "re.sub('[a-zA-Z]', '', my_string)"
      ],
      "metadata": {
        "id": "H-tFsk7iIHvD"
      },
      "execution_count": null,
      "outputs": []
    },
    {
      "cell_type": "code",
      "source": [
        "import re\n",
        "\n",
        "my_string = \"aAb1B2cC34oOp\"\n",
        "re.sub('[^1-9]', '', my_string)"
      ],
      "metadata": {
        "id": "hznzqT-mIIl1"
      },
      "execution_count": null,
      "outputs": []
    },
    {
      "cell_type": "code",
      "source": [
        "import re\n",
        "\n",
        "def solution(my_string):\n",
        "    return sum([int(i) for i in re.sub('[^1-9]', '', my_string)])"
      ],
      "metadata": {
        "id": "dM3aZx_fIKLO"
      },
      "execution_count": null,
      "outputs": []
    },
    {
      "cell_type": "code",
      "source": [
        "import re\n",
        "\n",
        "def solution(my_string):\n",
        "    return sum(int(i) for i in re.sub('[^1-9]', '', my_string))"
      ],
      "metadata": {
        "id": "AdCDZ3rwIKy3"
      },
      "execution_count": null,
      "outputs": []
    },
    {
      "cell_type": "markdown",
      "source": [
        "### sub의 실무 응용(중고급 강좌)"
      ],
      "metadata": {
        "id": "YNKxelFXIM71"
      }
    },
    {
      "cell_type": "code",
      "source": [
        "import re\n",
        "\n",
        "re.sub(r'([0-9]{3})-([0-9]{4})-([0-9]{4})',\n",
        "       r'\\1__\\2__\\3',\n",
        "       '010-5000-3000')"
      ],
      "metadata": {
        "id": "vap8n9J_INVi"
      },
      "execution_count": null,
      "outputs": []
    },
    {
      "cell_type": "code",
      "source": [
        "import re\n",
        "\n",
        "re.sub(r'([0-9]{3})-([0-9]{4})-([0-9]{4})',\n",
        "       r'\\1!!\\2!!\\3',\n",
        "       '010-5000-3000')"
      ],
      "metadata": {
        "id": "URiNZmR6IOag"
      },
      "execution_count": null,
      "outputs": []
    },
    {
      "cell_type": "code",
      "source": [
        "import re\n",
        "\n",
        "re.sub(r'([0-9]{3})-([0-9]{4})-([0-9]{4})',\n",
        "       r'\\1---\\2---\\3',\n",
        "       '010-5000-3000')"
      ],
      "metadata": {
        "id": "DoZAnhzhIPPC"
      },
      "execution_count": null,
      "outputs": []
    },
    {
      "cell_type": "code",
      "source": [
        "# 문제\n",
        "# 입력 : '2023/05/16'\n",
        "# 출력1 : '05/16/2023' # 미국식 날짜 표기 방법(월 / 일 / 년)\n",
        "# 출력2 : '16/05/2023' # 영국식 날짜 표기 방법(일 / 월 / 년)"
      ],
      "metadata": {
        "id": "gAWjlvX2IQCw"
      },
      "execution_count": null,
      "outputs": []
    },
    {
      "cell_type": "code",
      "source": [
        "import re\n",
        "\n",
        "re.sub(r'([0-9]{4})/([0-9]{2})/([0-9]{2})',\n",
        "       r'\\1/\\1/\\1/\\1/\\1/\\1/\\1',\n",
        "       '2023/05/16')"
      ],
      "metadata": {
        "id": "tjR1PjBwIQ_T"
      },
      "execution_count": null,
      "outputs": []
    },
    {
      "cell_type": "code",
      "source": [
        "# 문제\n",
        "# 입력 : '2023/05/16'\n",
        "# 출력1 : '05/16/2023' # 미국식 날짜 표기 방법(월 / 일 / 년)\n",
        "# 출력2 : '16/05/2023' # 영국식 날짜 표기 방법(일 / 월 / 년)\n",
        "# 미국식\n",
        "import re\n",
        "\n",
        "re.sub(r'([0-9]{4})/([0-9]{2})/([0-9]{2})',\n",
        "       r'\\2/\\3/\\1',\n",
        "       '2023/05/16')"
      ],
      "metadata": {
        "id": "yIPcoP5OIR2r"
      },
      "execution_count": null,
      "outputs": []
    },
    {
      "cell_type": "code",
      "source": [
        "# 영국식\n",
        "import re\n",
        "\n",
        "re.sub(r'([0-9]{4})/([0-9]{2})/([0-9]{2})',\n",
        "       r'\\3/\\2/\\1',\n",
        "       '2023/05/16')"
      ],
      "metadata": {
        "id": "kjcPT95RISpB"
      },
      "execution_count": null,
      "outputs": []
    },
    {
      "cell_type": "code",
      "source": [
        "# 변수로 사용하는 것 test1\n",
        "import re\n",
        "\n",
        "re.sub(r'(?P<year>[0-9]{4})/(?P<month>[0-9]{2})/(?P<day>[0-9]{2})',\n",
        "       r'\\3/\\2/\\1',\n",
        "       '2023/05/16')"
      ],
      "metadata": {
        "id": "_9hxPlbTITsN"
      },
      "execution_count": null,
      "outputs": []
    },
    {
      "cell_type": "code",
      "source": [
        "# 변수로 사용하는 것 test2\n",
        "# 작동하지 않습니다.\n",
        "import re\n",
        "\n",
        "re.sub(r'(?P<year>[0-9]{4})/(?P<month>[0-9]{2})/(?P<day>[0-9]{2})',\n",
        "       r'\\<year>/\\<month>/\\<day>',\n",
        "       '2023/05/16')"
      ],
      "metadata": {
        "id": "lep6oc5qIUba"
      },
      "execution_count": null,
      "outputs": []
    },
    {
      "cell_type": "code",
      "source": [
        "# 변수로 사용하는 것 test3\n",
        "import re\n",
        "\n",
        "re.sub(r'(?P<year>[0-9]{4})/(?P<month>[0-9]{2})/(?P<day>[0-9]{2})',\n",
        "       r'\\g<year>/\\g<month>/\\g<day>',\n",
        "       '2023/05/16')"
      ],
      "metadata": {
        "id": "G7RwdqD4IVj4"
      },
      "execution_count": null,
      "outputs": []
    },
    {
      "cell_type": "code",
      "source": [
        "# md -> html 파일로\n",
        "# '# hello world' => '<h1>hello world</h1>'\n",
        "import re\n",
        "\n",
        "re.sub(r'# (.*)',\n",
        "       r'<h1>\\1</h1>',\n",
        "       '# hello world')"
      ],
      "metadata": {
        "id": "EHrhRN86IWu2"
      },
      "execution_count": null,
      "outputs": []
    },
    {
      "cell_type": "code",
      "source": [
        "# md -> html 파일로\n",
        "# '# hello world' => '<h1>hello world</h1>'\n",
        "import re\n",
        "\n",
        "text='''# hello1\n",
        "hello world\n",
        "# hello2\n",
        "hello world\n",
        "# hello3\n",
        "hello world\n",
        "'''\n",
        "\n",
        "re.sub(r'# (.*)',\n",
        "       r'<h1>\\1</h1>',\n",
        "       text)"
      ],
      "metadata": {
        "id": "HZuk3mFNIXtq"
      },
      "execution_count": null,
      "outputs": []
    },
    {
      "cell_type": "code",
      "source": [
        "# md -> html 파일로\n",
        "# '# hello world' => '<h1>hello world</h1>'\n",
        "import re\n",
        "\n",
        "text='''# hello1\n",
        "## hello1.1\n",
        "hello world\n",
        "# hello2\n",
        "## hello2.1\n",
        "hello world\n",
        "# hello3\n",
        "## hello3.1\n",
        "hello world\n",
        "'''\n",
        "\n",
        "text = re.sub(r'# (.*)', r'<h1>\\1</h1>', text)\n",
        "text"
      ],
      "metadata": {
        "id": "AptejvbfIZMw"
      },
      "execution_count": null,
      "outputs": []
    },
    {
      "cell_type": "code",
      "source": [
        "import re\n",
        "\n",
        "text='''# hello1\n",
        "## hello1.1\n",
        "hello world\n",
        "# hello2\n",
        "## hello2.1\n",
        "hello world\n",
        "# hello3\n",
        "## hello3.1\n",
        "hello world\n",
        "'''\n",
        "\n",
        "text = re.sub(r'## (.*)', r'<h2>\\1</h2>', text)\n",
        "text = re.sub(r'# (.*)', r'<h1>\\1</h1>', text)\n",
        "print(text)"
      ],
      "metadata": {
        "id": "xU1SmUbPIaKq"
      },
      "execution_count": null,
      "outputs": []
    },
    {
      "cell_type": "code",
      "source": [
        "import re\n",
        "\n",
        "text='''# hello1\n",
        "## hello1.1\n",
        "hello world\n",
        "# hello2\n",
        "## hello2.1\n",
        "hello world\n",
        "# hello3\n",
        "## hello3.1\n",
        "hello world\n",
        "'''\n",
        "\n",
        "# p = re.compile('^# (.*)', re.MULTILINE)\n",
        "# text = p.sub(r'<h1>\\1</h1>', text)\n",
        "text = re.sub(r'^# (.*)', r'<h1>\\1</h1>', text, flags=re.M)\n",
        "text = re.sub(r'^## (.*)', r'<h2>\\1</h2>', text, flags=re.M)\n",
        "print(text)"
      ],
      "metadata": {
        "id": "LiJFnUZ4IdL2"
      },
      "execution_count": null,
      "outputs": []
    },
    {
      "cell_type": "code",
      "source": [
        "import re\n",
        "\n",
        "def markdown_to_html(markdown):\n",
        "    html = re.sub(r'### (.*)', r'<h3>\\1</h3>', markdown)\n",
        "    html = re.sub(r'## (.*)', r'<h2>\\1</h2>', html)\n",
        "    html = re.sub(r'# (.*)', r'<h1>\\1</h1>', html)\n",
        "    return html"
      ],
      "metadata": {
        "id": "ZvZJFRbtItQ-"
      },
      "execution_count": null,
      "outputs": []
    },
    {
      "cell_type": "code",
      "source": [
        "import re\n",
        "\n",
        "text = '''# This is a h1\n",
        "## This is a h2\n",
        "### This is a h3\n",
        "#### This is a h4\n",
        "##### This is a h5\n",
        "###### This is a h6\n",
        "\n",
        "* This is a bulleted list\n",
        "  * This is a nested bulleted list\n",
        "\n",
        "**This is bold text**\n",
        "\n",
        "_This is italic text_\n",
        "\n",
        "~~This text is strikethrough~~\n",
        "'''\n",
        "\n",
        "def markdown_to_html(markdown):\n",
        "    html = re.sub(r'### (.*)', r'<h3>\\1</h3>', markdown)\n",
        "    html = re.sub(r'## (.*)', r'<h2>\\1</h2>', html)\n",
        "    html = re.sub(r'# (.*)', r'<h1>\\1</h1>', html)\n",
        "    html = re.sub(r'`(.*)`', r'<pre><code>\\1</code></pre>', html)\n",
        "    html = re.sub(r'\\*\\*(.*)\\*\\*', r'<strong>\\1</strong>', html)\n",
        "    html = re.sub(r'_(.*)_', r'<em>\\1</em>', html)\n",
        "    html = re.sub(r'~~(.*)~~', r'<del>\\1</del>', html)\n",
        "    html = re.sub(r'^(>+) (.*)', r'<blockquote>\\1\\2</blockquote>', html)\n",
        "    # html = re.sub(r'^\\* (.*)', r'<ul><li>\\1</li></ul>', html, flags=re.M+re.S)\n",
        "    return html\n",
        "\n",
        "print(markdown_to_html(text))"
      ],
      "metadata": {
        "id": "JtL7LMBMKjVx"
      },
      "execution_count": null,
      "outputs": []
    },
    {
      "cell_type": "markdown",
      "source": [
        "## search"
      ],
      "metadata": {
        "id": "qlYNbcneLwKp"
      }
    },
    {
      "cell_type": "code",
      "source": [
        "p = re.compile('[yth]')\n",
        "m = p.search('python')\n",
        "print(m)"
      ],
      "metadata": {
        "id": "vdlGmypbLxLZ"
      },
      "execution_count": null,
      "outputs": []
    },
    {
      "cell_type": "markdown",
      "source": [
        "## findall"
      ],
      "metadata": {
        "id": "GON3R7MgLy8b"
      }
    },
    {
      "cell_type": "code",
      "source": [
        "p = re.compile('[a-z]+')\n",
        "result = p.findall('Python')\n",
        "print(result)"
      ],
      "metadata": {
        "id": "zaxeifPEL08h"
      },
      "execution_count": null,
      "outputs": []
    },
    {
      "cell_type": "code",
      "source": [
        "p = re.compile('[a-z]+')\n",
        "result = p.findall('Life is Short, You Need Python!')\n",
        "print(result)"
      ],
      "metadata": {
        "id": "LWeiX4KpL2ui"
      },
      "execution_count": null,
      "outputs": []
    },
    {
      "cell_type": "code",
      "source": [
        "p = re.compile('[a-z]+')\n",
        "result = p.findall('Life is Short, You Need Python!')\n",
        "print(result)"
      ],
      "metadata": {
        "id": "KvHN3d1WL3j4"
      },
      "execution_count": null,
      "outputs": []
    },
    {
      "cell_type": "code",
      "source": [
        "p = re.compile('[a-z]+')\n",
        "result = p.findall('LifeisShort,YouNeed P y t h o n !')\n",
        "print(result)"
      ],
      "metadata": {
        "id": "xtwsZyLSL3ew"
      },
      "execution_count": null,
      "outputs": []
    },
    {
      "cell_type": "code",
      "source": [
        "p = re.compile('[0-9]+')\n",
        "result = p.findall('010!5000-1000')\n",
        "print(result)"
      ],
      "metadata": {
        "id": "dyudBk6NMZ47"
      },
      "execution_count": null,
      "outputs": []
    },
    {
      "cell_type": "code",
      "source": [
        "'010-5000-1000'.split('-')"
      ],
      "metadata": {
        "id": "UUsm0QysMbQb"
      },
      "execution_count": null,
      "outputs": []
    },
    {
      "cell_type": "code",
      "source": [
        "# 문제 링크 : https://school.programmers.co.kr/learn/courses/30/lessons/17682"
      ],
      "metadata": {
        "id": "8rzSQAPppyo0"
      },
      "execution_count": null,
      "outputs": []
    },
    {
      "cell_type": "code",
      "source": [
        "# 1\n",
        "p = re.compile(r'([0-9]|10)([SDT])([\\*\\#]?)')\n",
        "p.findall('1S2D*3T')\n",
        "\n",
        "# 2\n",
        "# re.findall(r'([0-9]|10)([SDT])([\\*\\#]?)', '1S2D*3T')"
      ],
      "metadata": {
        "id": "GEkqEatgp0Sg"
      },
      "execution_count": null,
      "outputs": []
    },
    {
      "cell_type": "code",
      "source": [
        "# 문제 링크: https://school.programmers.co.kr/learn/courses/30/lessons/120891"
      ],
      "metadata": {
        "id": "7Q4Zjc2fOQHv"
      },
      "execution_count": null,
      "outputs": []
    },
    {
      "cell_type": "code",
      "source": [
        "p = re.compile('[369]')\n",
        "result = p.findall('29423')\n",
        "print(result)"
      ],
      "metadata": {
        "id": "4nK-QLiGp4Zt"
      },
      "execution_count": null,
      "outputs": []
    },
    {
      "cell_type": "code",
      "source": [
        "def solution(order):\n",
        "    count = 0\n",
        "    for i in str(order):\n",
        "        if i == '3' or i == '6' or i == '9':\n",
        "            count += 1\n",
        "    return count"
      ],
      "metadata": {
        "id": "k72uaUzwp5b2"
      },
      "execution_count": null,
      "outputs": []
    },
    {
      "cell_type": "code",
      "source": [
        "def solution(order):\n",
        "    count = 0\n",
        "    for i in str(order):\n",
        "        if i == '3':\n",
        "            count += 1\n",
        "        elif i == '6':\n",
        "            count += 1\n",
        "        elif i == '9':\n",
        "            count += 1\n",
        "    return count"
      ],
      "metadata": {
        "id": "96lRNE4lp6qN"
      },
      "execution_count": null,
      "outputs": []
    },
    {
      "cell_type": "code",
      "source": [
        "import re\n",
        "\n",
        "def solution(order):\n",
        "    p = re.compile('[369]')\n",
        "    return len(p.findall(str(order)))"
      ],
      "metadata": {
        "id": "xsfViDR2OS2N"
      },
      "execution_count": null,
      "outputs": []
    },
    {
      "cell_type": "code",
      "source": [
        "# 문제 링크: https://school.programmers.co.kr/learn/courses/30/lessons/120913"
      ],
      "metadata": {
        "id": "OypqujUiPWdV"
      },
      "execution_count": null,
      "outputs": []
    },
    {
      "cell_type": "code",
      "source": [
        "s = \"abc1Addfggg4556b\"\n",
        "len(s)\n",
        "s[15:18] # str에 slicing 경우 out of range error가 발생 하지 않습니다."
      ],
      "metadata": {
        "id": "txHman0RTa1V"
      },
      "execution_count": null,
      "outputs": []
    },
    {
      "cell_type": "code",
      "source": [
        "s = \"abc1Addfggg4556b\"\n",
        "len(s)\n",
        "s[19:25] # str에 slicing 경우 out of range error가 발생 하지 않습니다."
      ],
      "metadata": {
        "id": "JRGz8jAbqDck"
      },
      "execution_count": null,
      "outputs": []
    },
    {
      "cell_type": "code",
      "source": [
        "l = [10, 20, 30]\n",
        "l[10:15] # slicing 경우 out of range error가 발생 하지 않습니다."
      ],
      "metadata": {
        "id": "yyKslC1qqE6w"
      },
      "execution_count": null,
      "outputs": []
    },
    {
      "cell_type": "code",
      "source": [
        "n = 3\n",
        "s = \"abc1Addfggg4556b\"\n",
        "\n",
        "for i in range(0, len(s), n):\n",
        "    print(s[i:i+n])"
      ],
      "metadata": {
        "id": "Gn3t4ju8PYWa"
      },
      "execution_count": null,
      "outputs": []
    },
    {
      "cell_type": "code",
      "source": [
        "def solution(my_str, n):\n",
        "    result = []\n",
        "    for i in range(0, len(my_str), n):\n",
        "        result.append(my_str[i:i+n])\n",
        "    return result"
      ],
      "metadata": {
        "id": "PSKfInRXT3ta"
      },
      "execution_count": null,
      "outputs": []
    },
    {
      "cell_type": "code",
      "source": [
        "def solution(my_str, n):\n",
        "    return [my_str[i:i+n] for i in range(0, len(my_str), n)]"
      ],
      "metadata": {
        "id": "oOqTAlUgqHna"
      },
      "execution_count": null,
      "outputs": []
    },
    {
      "cell_type": "code",
      "source": [
        "import re\n",
        "\n",
        "re.findall('.{4}', \"abc1Addfggg4556b\")"
      ],
      "metadata": {
        "id": "EuE33RZ7qIdB"
      },
      "execution_count": null,
      "outputs": []
    },
    {
      "cell_type": "code",
      "source": [
        "import re\n",
        "\n",
        "re.findall('.{4}', \"abc1Addfggg4556bte\")"
      ],
      "metadata": {
        "id": "OWX2dDHfqKlC"
      },
      "execution_count": null,
      "outputs": []
    },
    {
      "cell_type": "code",
      "source": [
        "import re\n",
        "\n",
        "re.findall('.{1,4}', \"abc1Addfggg4556bte\")"
      ],
      "metadata": {
        "id": "9tnjTO_YqL1j"
      },
      "execution_count": null,
      "outputs": []
    },
    {
      "cell_type": "code",
      "source": [
        "# why? 왜 실패가 나왔는가?\n",
        "import re\n",
        "\n",
        "def solution(my_str, n):\n",
        "    return re.findall(f'.{1,n}', my_str)"
      ],
      "metadata": {
        "id": "JvttxzxGqNUG"
      },
      "execution_count": null,
      "outputs": []
    },
    {
      "cell_type": "code",
      "source": [
        "# step1\n",
        "import re\n",
        "\n",
        "def solution(my_str, n):\n",
        "    return re.findall(f'.{1,{n}}', my_str)"
      ],
      "metadata": {
        "id": "NecjrbX6qO8P"
      },
      "execution_count": null,
      "outputs": []
    },
    {
      "cell_type": "code",
      "source": [
        "# step2\n",
        "# python에서 {를 넣기 위해선 {{를 사용하여야 합니다\n",
        "import re\n",
        "\n",
        "def solution(my_str, n):\n",
        "    return re.findall(f'.{{1,{n}}}', my_str)"
      ],
      "metadata": {
        "id": "LNxbWVIFqPtL"
      },
      "execution_count": null,
      "outputs": []
    },
    {
      "cell_type": "code",
      "source": [
        "# f-string 용법에서 중괄호를 문자열 그대로 표현하기 위해\n",
        "# 이스케이프 문자를 사용하지 않습니다.\n",
        "# 중괄호 2개를 사용합니다!\n",
        "import re\n",
        "\n",
        "def solution(my_str, n):\n",
        "    return re.findall(f'.\\{1,{n}\\}', my_str)"
      ],
      "metadata": {
        "id": "-Ee6mMLeqRJX"
      },
      "execution_count": null,
      "outputs": []
    },
    {
      "cell_type": "code",
      "source": [
        "# 문제 링크 : https://school.programmers.co.kr/learn/courses/30/lessons/120894"
      ],
      "metadata": {
        "id": "SxbDpl_MqTpd"
      },
      "execution_count": null,
      "outputs": []
    },
    {
      "cell_type": "code",
      "source": [
        "import re\n",
        "\n",
        "re.findall('(one|two|three|four|five|six|seven|eight|nine|zero)',\n",
        "           \"onetwothreefourfivesixseveneightnine\")"
      ],
      "metadata": {
        "id": "uPx9VcWmqUwX"
      },
      "execution_count": null,
      "outputs": []
    },
    {
      "cell_type": "code",
      "source": [
        "d = {\n",
        "    'zero': 0,\n",
        "    'one': 1,\n",
        "    'two': 2,\n",
        "    'three': 3,\n",
        "    'four': 4,\n",
        "    'five': 5,\n",
        "    'six': 6,\n",
        "    'seven': 7,\n",
        "    'eight': 8,\n",
        "    'nine': 9\n",
        "}\n",
        "l = ['one', 'two', 'three', 'four', 'five', 'six', 'seven', 'eight', 'nine']\n",
        "\n",
        "s = ''\n",
        "for i in l:\n",
        "    s += str(d[i])\n",
        "s"
      ],
      "metadata": {
        "id": "tzNWlE43qVrl"
      },
      "execution_count": null,
      "outputs": []
    },
    {
      "cell_type": "code",
      "source": [
        "d = {\n",
        "    'zero': 0,\n",
        "    'one': 1,\n",
        "    'two': 2,\n",
        "    'three': 3,\n",
        "    'four': 4,\n",
        "    'five': 5,\n",
        "    'six': 6,\n",
        "    'seven': 7,\n",
        "    'eight': 8,\n",
        "    'nine': 9\n",
        "}\n",
        "l = ['one', 'two', 'three', 'four', 'five', 'six', 'seven', 'eight', 'nine']\n",
        "''.join([str(d[i]) for i in l])"
      ],
      "metadata": {
        "id": "szku7rBCqXBv"
      },
      "execution_count": null,
      "outputs": []
    },
    {
      "cell_type": "code",
      "source": [
        "d = {\n",
        "    'zero': 0,\n",
        "    'one': 1,\n",
        "    'two': 2,\n",
        "    'three': 3,\n",
        "    'four': 4,\n",
        "    'five': 5,\n",
        "    'six': 6,\n",
        "    'seven': 7,\n",
        "    'eight': 8,\n",
        "    'nine': 9\n",
        "}\n",
        "l = ['one', 'two', 'three', 'four', 'five', 'six', 'seven', 'eight', 'nine']\n",
        "# list(map(lambda x:str(d[x]), l))\n",
        "''.join(map(lambda x:str(d[x]), l)) # join 뒤에도 이터러블 객체가 옵니다."
      ],
      "metadata": {
        "id": "zkbw_lvdqYN-"
      },
      "execution_count": null,
      "outputs": []
    },
    {
      "cell_type": "code",
      "source": [
        "import re\n",
        "\n",
        "def solution(numbers):\n",
        "    s = ''\n",
        "    d = {\n",
        "        'one':   '1',\n",
        "        'two':   '2',\n",
        "        'three': '3',\n",
        "        'four':  '4',\n",
        "        'five':  '5',\n",
        "        'six':   '6',\n",
        "        'seven': '7',\n",
        "        'eight': '8',\n",
        "        'nine':  '9',\n",
        "        'zero':  '0',\n",
        "    }\n",
        "    for i in re.findall(r'(zero|one|two|three|four|five|six|seven|eight|nine)', numbers):\n",
        "        s += d[i]\n",
        "    return int(s)"
      ],
      "metadata": {
        "id": "ed-2qu7oqZar"
      },
      "execution_count": null,
      "outputs": []
    },
    {
      "cell_type": "markdown",
      "source": [
        "## finditer"
      ],
      "metadata": {
        "id": "v085UxN0qbIK"
      }
    },
    {
      "cell_type": "markdown",
      "source": [
        "- 정규식과 매치되는 모둔 문자열(substring)을 반복 가능한 객체로 리턴한다."
      ],
      "metadata": {
        "id": "lqDuuvbUqctp"
      }
    },
    {
      "cell_type": "code",
      "source": [
        "p = re.compile('.{4}')\n",
        "result = p.finditer('helloworldhelloworldhelloworld')\n",
        "result\n",
        "for i in result:\n",
        "    print(i)\n",
        "    print(i.group())\n",
        "    print(i.span())"
      ],
      "metadata": {
        "id": "eVzNttkbqgH1"
      },
      "execution_count": null,
      "outputs": []
    },
    {
      "cell_type": "markdown",
      "source": [
        "## split"
      ],
      "metadata": {
        "id": "1IIEnXXAqhmD"
      }
    },
    {
      "cell_type": "markdown",
      "source": [
        "- 정규표현 패턴으로 문자열을 분할(str의 split과 같은 역할)"
      ],
      "metadata": {
        "id": "sLDmq1fEqjU4"
      }
    },
    {
      "cell_type": "code",
      "source": [
        "import re\n",
        "\n",
        "s = '010 5000!4000'\n",
        "re.split(r' ', s)"
      ],
      "metadata": {
        "id": "K-abqITfqqec"
      },
      "execution_count": null,
      "outputs": []
    },
    {
      "cell_type": "code",
      "source": [
        "import re\n",
        "\n",
        "s = '010 5000!4000'\n",
        "re.split(r'[ !]', s)"
      ],
      "metadata": {
        "id": "Ogpwqgb1qrnJ"
      },
      "execution_count": null,
      "outputs": []
    },
    {
      "cell_type": "code",
      "source": [
        "text = '''\n",
        "<!DOCTYPE html>\n",
        "<html lang=\"ko\">\n",
        "<head>\n",
        "    <title>hello title</title>\n",
        "</head>\n",
        "<body>\n",
        "    <h1>hello h1</h1>\n",
        "    <p>hello p</p>\n",
        "</body>\n",
        "</html>\n",
        "'''\n",
        "\n",
        "text.split('>')"
      ],
      "metadata": {
        "id": "-zhztUVTqsZf"
      },
      "execution_count": null,
      "outputs": []
    },
    {
      "cell_type": "code",
      "source": [
        "import re\n",
        "\n",
        "text = '''\n",
        "<!DOCTYPE html>\n",
        "<html lang=\"ko\">\n",
        "<head>\n",
        "    <title>hello title</title>\n",
        "</head>\n",
        "<body>\n",
        "    <h1>hello h1</h1>\n",
        "    <p>hello p</p>\n",
        "</body>\n",
        "</html>\n",
        "'''\n",
        "\n",
        "result = re.split(r'<[^<>]*>', text) # beautifulsoup 원리 : 정규표현식으로 문자열 조각\n",
        "list(filter(lambda x:x !='\\n', map(lambda x:x.strip(), result)))"
      ],
      "metadata": {
        "id": "yLnJ49R-quJf"
      },
      "execution_count": null,
      "outputs": []
    },
    {
      "cell_type": "markdown",
      "source": [
        "## 연습 문제"
      ],
      "metadata": {
        "id": "83q87SYYUD1_"
      }
    },
    {
      "cell_type": "code",
      "source": [
        "# 다음 숫자를 모두 포함하는 정규표현식을 만들어주세요.\n",
        "# 참고로 지역번호 들어가야 합니다. 🙂\n",
        "import re\n",
        "\n",
        "data = '''\n",
        "010-9091-5491\n",
        "010-5043-2901\n",
        "010-5050-40409\n",
        "010 2913 3132\n",
        "01019133829\n",
        "064-721-3213\n",
        "010.1913.3829\n",
        "'''\n",
        "\n",
        "p = re.compile('\\d{2,}[-. ]?\\d{3,}[-. ]?\\d{4,}')\n",
        "p.findall(data)"
      ],
      "metadata": {
        "id": "OBev3WemSajq"
      },
      "execution_count": null,
      "outputs": []
    },
    {
      "cell_type": "code",
      "source": [
        "import re\n",
        "\n",
        "def solution(data):\n",
        "    p = re.compile(r'[rev][10|1-9]')\n",
        "    return p.findall(data)\n",
        "\n",
        "data = 'a10b9r1ce33uab8wc918v2cv11v9'\n",
        "solution(data)"
      ],
      "metadata": {
        "id": "OJyko5aFRHhZ"
      },
      "execution_count": null,
      "outputs": []
    },
    {
      "cell_type": "code",
      "source": [
        "import re\n",
        "\n",
        "def solution(data):\n",
        "    p = re.compile(r'([rev])(10|[1-9])')\n",
        "    return p.findall(data)\n",
        "\n",
        "data = 'a10b9r10ce33uab8wc918v2cv11v9'\n",
        "solution(data)"
      ],
      "metadata": {
        "id": "5GbXbIFtUFG2"
      },
      "execution_count": null,
      "outputs": []
    },
    {
      "cell_type": "code",
      "source": [
        "import re\n",
        "import requests\n",
        "from bs4 import BeautifulSoup\n",
        "\n",
        "def remove_html(sentence):\n",
        "    return re.sub('(<([^>]+)>)', '', str(sentence))\n",
        "\n",
        "response = requests.get('http://www.paullab.co.kr/stock.html')\n",
        "response.encoding = 'utf-8'\n",
        "\n",
        "html = response.text\n",
        "\n",
        "soup = BeautifulSoup(html, 'html.parser')\n",
        "\n",
        "데이터 = soup.select('.table-hover')[0].select('span')[6::7]\n",
        "일일거래량 = remove_html(데이터).replace(',', '').replace('[', '').replace(']', '')\n",
        "\n",
        "sum(map(int, 일일거래량.split()))"
      ],
      "metadata": {
        "id": "Y30Q0qYwRysd"
      },
      "execution_count": null,
      "outputs": []
    }
  ]
}
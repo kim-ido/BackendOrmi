{
  "nbformat": 4,
  "nbformat_minor": 0,
  "metadata": {
    "colab": {
      "provenance": []
    },
    "kernelspec": {
      "name": "python3",
      "display_name": "Python 3"
    },
    "language_info": {
      "name": "python"
    }
  },
  "cells": [
    {
      "cell_type": "markdown",
      "source": [
        "* 순열과 조합이 쓰이는 문제는 '완전 탐색' 문제에서 주로 사용이 됩니다. 아래와 같은 문제도 '완전 탐색'으로 손쉽게 풀 수 있습니다. 단, 효율이 좋지는 않습니다."
      ],
      "metadata": {
        "id": "_ghp0So7Mjyy"
      }
    },
    {
      "cell_type": "markdown",
      "source": [
        "## 순열\n",
        "\n",
        "* 순서를 정해서 나열한다.(nPr)\n",
        "* 아래와 같은 문제에서 순열로 문제를 풀 수 있습니다.\n",
        "* https://school.programmers.co.kr/learn/courses/30/lessons/120956"
      ],
      "metadata": {
        "id": "4WiZspKJMf0Z"
      }
    },
    {
      "cell_type": "code",
      "execution_count": null,
      "metadata": {
        "id": "Ui-BzvdgMbCM"
      },
      "outputs": [],
      "source": [
        "from itertools import permutations\n",
        "\n",
        "permutations([1, 2, 3, 4], 2) # 순회 가능한 객체만 생성"
      ]
    },
    {
      "cell_type": "code",
      "source": [
        "from itertools import permutations\n",
        "\n",
        "list(permutations([1, 2, 3, 4], 2)) +\\\n",
        "list(permutations([1, 2, 3, 4], 3)) +\\\n",
        "list(permutations([1, 2, 3, 4], 4))\n",
        "\n",
        "list(permutations(range(1, 5), 2))\n",
        "list(permutations('hello', 2))"
      ],
      "metadata": {
        "id": "Z9VoBFIjM8mY"
      },
      "execution_count": null,
      "outputs": []
    },
    {
      "cell_type": "code",
      "source": [
        "list(permutations([\"aya\", \"ye\", \"woo\", \"ma\"], 1)) +\\\n",
        "list(permutations([\"aya\", \"ye\", \"woo\", \"ma\"], 2)) +\\\n",
        "list(permutations([\"aya\", \"ye\", \"woo\", \"ma\"], 3)) +\\\n",
        "list(permutations([\"aya\", \"ye\", \"woo\", \"ma\"], 4))"
      ],
      "metadata": {
        "id": "iIG9Q1WkNuo9"
      },
      "execution_count": null,
      "outputs": []
    },
    {
      "cell_type": "code",
      "source": [
        "순열 = list(permutations([\"aya\", \"ye\", \"woo\", \"ma\"], 1)) +\\\n",
        "list(permutations([\"aya\", \"ye\", \"woo\", \"ma\"], 2)) +\\\n",
        "list(permutations([\"aya\", \"ye\", \"woo\", \"ma\"], 3)) +\\\n",
        "list(permutations([\"aya\", \"ye\", \"woo\", \"ma\"], 4))\n",
        "\n",
        "순열집합 = []\n",
        "\n",
        "for i in 순열:\n",
        "    순열집합.append(''.join(i))\n",
        "\n",
        "순열집합"
      ],
      "metadata": {
        "id": "BCX5IzCyOK4Y"
      },
      "execution_count": null,
      "outputs": []
    },
    {
      "cell_type": "code",
      "source": [
        "count = 0\n",
        "for i in [\"ayaye\", \"uuuma\", \"ye\", \"yemawoo\", \"ayaa\"]:\n",
        "    if i in 순열집합:\n",
        "        count += 1\n",
        "\n",
        "count"
      ],
      "metadata": {
        "id": "ee4-4GXcOrQ1"
      },
      "execution_count": null,
      "outputs": []
    },
    {
      "cell_type": "markdown",
      "source": [
        "## 조합\n",
        "\n",
        "* 순서를 정하지 않고 나열한다.(nCr)\n",
        "* 아래와 같은 문제에서 조합을 활용할 수 있습니다.\n",
        "* 링크 : https://pyalgo.co.kr/?page=12#"
      ],
      "metadata": {
        "id": "SSrEhPMqMhdF"
      }
    },
    {
      "cell_type": "code",
      "source": [
        "from itertools import combinations\n",
        "\n",
        "combinations([1, 2, 3, 4], 2)"
      ],
      "metadata": {
        "id": "gDaom3mHPo-s"
      },
      "execution_count": null,
      "outputs": []
    },
    {
      "cell_type": "code",
      "source": [
        "from itertools import combinations\n",
        "\n",
        "list(combinations([1, 2, 3, 4], 2))"
      ],
      "metadata": {
        "id": "DiaDs_TyPvhp"
      },
      "execution_count": null,
      "outputs": []
    },
    {
      "cell_type": "code",
      "source": [
        "from itertools import combinations\n",
        "\n",
        "list(combinations('abcd', 2))"
      ],
      "metadata": {
        "id": "Enjp7uqaP1rm"
      },
      "execution_count": null,
      "outputs": []
    }
  ]
}
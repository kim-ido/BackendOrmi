{
  "nbformat": 4,
  "nbformat_minor": 0,
  "metadata": {
    "colab": {
      "provenance": []
    },
    "kernelspec": {
      "name": "python3",
      "display_name": "Python 3"
    },
    "language_info": {
      "name": "python"
    }
  },
  "cells": [
    {
      "cell_type": "code",
      "execution_count": null,
      "metadata": {
        "id": "n5OcDPw8GF6z"
      },
      "outputs": [],
      "source": [
        "# 라이캣의 개인정보 입력하기\n",
        "\n",
        "이름 = '캣'\n",
        "설명 = '위니브 월드 외곽에 살고있는 생선가게 주인 캣'\n",
        "나이 = 10\n",
        "오늘_잡은_물고기 = '10'\n",
        "키 = '45cm'\n",
        "몸무게 = 1.2\n",
        "육식 = True\n",
        "초식 = True\n",
        "돈 = 1000\n",
        "훈장 = []\n",
        "기술 = ['고기잡이', '고기팔기']\n",
        "\n",
        "'''\n",
        "라이캣의 개인정보입니다.\n",
        "성장함에 따라 해당 값이 변합니다.\n",
        "\n",
        "주의) 마음대로 성장시키지 마세요!\n",
        "'''"
      ]
    },
    {
      "cell_type": "code",
      "source": [
        "이름\n",
        "나이\n",
        "print(이름)\n",
        "print(나이)"
      ],
      "metadata": {
        "id": "nwNHH6Y3L5rA"
      },
      "execution_count": null,
      "outputs": []
    },
    {
      "cell_type": "code",
      "source": [
        "나이 = 11\n",
        "나이"
      ],
      "metadata": {
        "id": "y0QU8htyMCnH"
      },
      "execution_count": null,
      "outputs": []
    },
    {
      "cell_type": "code",
      "source": [
        "나이 = 나이 + 1"
      ],
      "metadata": {
        "id": "qrSRf36WNweM"
      },
      "execution_count": 20,
      "outputs": []
    },
    {
      "cell_type": "code",
      "source": [
        "나이"
      ],
      "metadata": {
        "id": "jyKbooqkNxxS"
      },
      "execution_count": null,
      "outputs": []
    },
    {
      "cell_type": "markdown",
      "source": [
        "## 변수의 규칙\n",
        "\n",
        "1. 변수 중간에 띄어쓰기를 하지 않습니다. 띄어쓰기를 명시하고 싶으실 때에는 언더스코어(`_`)를 사용하세요!\n",
        "2. 첫 글자는 숫자나 특수문자를 쓰지 않습니다. 물론 언더스코어(`_`) 제외입니다.\n",
        "3. 첫 글자를 대문자로 쓰지 않습니다. (Class가 대문자로 쓰기 때문이지만, 대문자로 써도 실행됩니다.)\n",
        "4. 예약어를 사용하지 않습니다. 예를 들어 뒤에 'print' 구문이 나오는데요. 이러한 함수명이나 구문은 변수명으로 사용하지 않습니다.\n",
        "5. 변수명은 대소문자를 가립니다! `Apple`과 `apple`은 다른 변수가 됩니다."
      ],
      "metadata": {
        "id": "wZBbdOwOVnC7"
      }
    },
    {
      "cell_type": "code",
      "source": [
        "오늘_잡은_물고기 + 1 # TypeError"
      ],
      "metadata": {
        "id": "I3odkHSyN02P"
      },
      "execution_count": null,
      "outputs": []
    },
    {
      "cell_type": "code",
      "source": [
        "int(오늘_잡은_물고기) + 1"
      ],
      "metadata": {
        "id": "UAxQ-eQSVg9w"
      },
      "execution_count": null,
      "outputs": []
    },
    {
      "cell_type": "code",
      "source": [
        "print(type(오늘_잡은_물고기))"
      ],
      "metadata": {
        "id": "4Q56drbuWww6"
      },
      "execution_count": null,
      "outputs": []
    },
    {
      "cell_type": "code",
      "source": [
        "print(type(이름)) # '캣'\n",
        "print(type(나이)) # 현재 12\n",
        "print(type(오늘_잡은_물고기)) # 현재 10\n",
        "print(type(몸무게))\n",
        "print(type(육식)) # True\n",
        "print(type(기술)) # ['고기잡이', '고기팔기']\n",
        "\n",
        "'''\n",
        "<class 'str'>\n",
        "<class 'int'>\n",
        "<class 'str'>\n",
        "<class 'float'>\n",
        "<class 'bool'>\n",
        "<class 'list'>\n",
        "'''"
      ],
      "metadata": {
        "id": "C5Q6jku3W0wC"
      },
      "execution_count": null,
      "outputs": []
    },
    {
      "cell_type": "markdown",
      "source": [
        "1. <class 'str'> - string, 문자열\n",
        "2. <class 'int'> - integer, 정수형\n",
        "3. <class 'float'> - float, 실수형\n",
        "4. <class 'bool'> - bool, boolean, 참거짓형\n",
        "5. <class 'list'> - list, 배열"
      ],
      "metadata": {
        "id": "Q4fh-U66XOZo"
      }
    },
    {
      "cell_type": "code",
      "source": [
        "# 1. int\n",
        "\n",
        "print(type(나이))\n",
        "print(dir(나이))"
      ],
      "metadata": {
        "id": "1PI3smDbXBrA"
      },
      "execution_count": null,
      "outputs": []
    },
    {
      "cell_type": "code",
      "source": [
        "나이 = 10\n",
        "print(나이.bit_length())\n",
        "print(bin(나이))\n",
        "\n",
        "나이_90년_후 = 100\n",
        "print(나이_90년_후.bit_length())\n",
        "print(bin(나이_90년_후))"
      ],
      "metadata": {
        "id": "z7LTueOsd_w7"
      },
      "execution_count": null,
      "outputs": []
    },
    {
      "cell_type": "code",
      "source": [
        "# 1.2 float\n",
        "\n",
        "print(몸무게)\n",
        "print(type(몸무게))\n",
        "print(dir(몸무게))\n",
        "\n",
        "print(몸무게 + 10)"
      ],
      "metadata": {
        "id": "JHy8JiEces2R"
      },
      "execution_count": null,
      "outputs": []
    },
    {
      "cell_type": "code",
      "source": [
        "# 3. str\n",
        "# 시퀀스형 자료형\n",
        "\n",
        "# index, indexing\n",
        "print(설명)\n",
        "print(설명[0])\n",
        "print(설명[1])\n",
        "print(설명[2])\n",
        "print(기술)\n",
        "print(기술[0])\n",
        "print(기술[1])\n",
        "# print(설명[0])\n",
        "# print(설명[0])"
      ],
      "metadata": {
        "id": "8FE2YFTbe6-8"
      },
      "execution_count": null,
      "outputs": []
    },
    {
      "cell_type": "code",
      "source": [
        "# slicing\n",
        "# 변수이름 [start:stop:step(생략 가능)]\n",
        "print(설명)\n",
        "print(설명[0:3])\n",
        "print(설명[0:6])\n",
        "print(설명[0:9])"
      ],
      "metadata": {
        "id": "w5xqWnVFgAvN"
      },
      "execution_count": null,
      "outputs": []
    },
    {
      "cell_type": "code",
      "source": [
        "캣의_생년월일 = '2220.02.22'\n",
        "생년 = 캣의_생년월일[:4]\n",
        "월 = 캣의_생년월일[5:7]\n",
        "일 = 캣의_생년월일[8:]\n",
        "print(생년, 월, 일)"
      ],
      "metadata": {
        "id": "ubow666UgSxc"
      },
      "execution_count": null,
      "outputs": []
    },
    {
      "cell_type": "code",
      "source": [
        "숫자 = '123456789101112'\n",
        "print(숫자[::-1])\n",
        "print(숫자[::2])\n",
        "print(숫자[1:7:2])\n",
        "print(숫자[7::-1])\n",
        "print(숫자[-1])"
      ],
      "metadata": {
        "id": "_3GbrOL9hCbu"
      },
      "execution_count": null,
      "outputs": []
    },
    {
      "cell_type": "code",
      "source": [
        "print(설명)\n",
        "print(type(설명))\n",
        "print(dir(설명))\n",
        "'''\n",
        "'capitalize', 'casefold', 'center', 'count', 'encode', 'endswith', 'expandtabs',\n",
        "'find', 'format', 'format_map', 'index', 'isalnum', 'isalpha', 'isascii',\n",
        "'isdecimal', 'isdigit', 'isidentifier', 'islower', 'isnumeric', 'isprintable',\n",
        "'isspace', 'istitle', 'isupper', 'join', 'ljust', 'lower', 'lstrip',\n",
        "'maketrans', 'partition', 'removeprefix', 'removesuffix', 'replace', 'rfind',\n",
        "'rindex', 'rjust', 'rpartition', 'rsplit', 'rstrip', 'split', 'splitlines',\n",
        "'startswith', 'strip', 'swapcase', 'title', 'translate', 'upper', 'zfill']\n",
        "'''"
      ],
      "metadata": {
        "id": "Lb4bHLjmikJv"
      },
      "execution_count": null,
      "outputs": []
    },
    {
      "cell_type": "code",
      "source": [
        "숫자.count('1')\n",
        "설명.upper()\n",
        "설명.lower()\n",
        "'           hello world'.lstrip()\n",
        "'           hello world'.strip()\n",
        "'           hello world'.replace(' ', '!')\n",
        "설명.index('곽')\n",
        "설명[설명.index('곽')] # 설명[8]\n",
        "설명.find('곽')\n",
        "설명[설명.find('곽')]\n",
        "\n",
        "설명.index('똬') # ValueError\n",
        "설명.find('똬')"
      ],
      "metadata": {
        "id": "-dQR6otji4Ze"
      },
      "execution_count": null,
      "outputs": []
    },
    {
      "cell_type": "code",
      "source": [
        "# bool\n",
        "\n",
        "육식 = True\n",
        "초식 = True\n",
        "print(type(육식))\n",
        "print(dir(육식))"
      ],
      "metadata": {
        "id": "W0I9ADBOjp9N"
      },
      "execution_count": null,
      "outputs": []
    },
    {
      "cell_type": "markdown",
      "source": [
        "## 1. list\n",
        "\n",
        "1. 순서가 있습니다.\n",
        "2. 수정이 가능합니다.\n",
        "3. 순회가 가능합니다.\n",
        "4. 값의 중복을 허락합니다."
      ],
      "metadata": {
        "id": "XEsxfBoCoqvv"
      }
    },
    {
      "cell_type": "code",
      "source": [
        "# list, tuple, dict, set\n",
        "\n",
        "# 1. list\n",
        "\n",
        "훈장 = []\n",
        "기술 = ['고기잡이', '고기팔기']\n",
        "print(type(기술))\n",
        "print(dir(기술))\n",
        "'''\n",
        "'append', 'clear', 'copy', 'count', 'extend',\n",
        "'index', 'insert', 'pop', 'remove', 'reverse', 'sort'\n",
        "'''"
      ],
      "metadata": {
        "id": "Tgbsw_grolAd"
      },
      "execution_count": null,
      "outputs": []
    },
    {
      "cell_type": "code",
      "source": [
        "잡은물고기 = ['광어', '고등어', '오징어', '오징어', '광어',\n",
        "              '광어', '고등어', '고등어', '백상아리', '금붕어']\n",
        "\n",
        "print(잡은물고기[0])\n",
        "print(잡은물고기[:3])\n",
        "print(잡은물고기[:7:2])\n",
        "잡은물고기[-1] = '백상아리'"
      ],
      "metadata": {
        "id": "1OThieX9o_57"
      },
      "execution_count": null,
      "outputs": []
    },
    {
      "cell_type": "code",
      "source": [
        "잡은물고기.count()\n",
        "잡은물고기.append('백상아리')\n",
        "잡은물고기\n",
        "# 잡은물고기.clear()\n",
        "# 잡은물고기.copy"
      ],
      "metadata": {
        "id": "Kx5cm0NwpdcU"
      },
      "execution_count": null,
      "outputs": []
    },
    {
      "cell_type": "code",
      "source": [
        "잡은물고기.extend(['광어', '광어', '고등어'])\n",
        "잡은물고기"
      ],
      "metadata": {
        "id": "lhbRJPFzp8mG"
      },
      "execution_count": null,
      "outputs": []
    },
    {
      "cell_type": "code",
      "source": [
        "잡은물고기.index('백상아리')\n",
        "잡은물고기.insert(3, '백상아리')\n",
        "잡은물고기.pop() \n",
        "# pop 안에 index를 넣어 지울 수 있습니다.\n",
        "# del 잡은물고기[0]\n",
        "잡은물고기"
      ],
      "metadata": {
        "id": "z2xilWSSqGpE"
      },
      "execution_count": null,
      "outputs": []
    },
    {
      "cell_type": "code",
      "source": [
        "잡은물고기.remove('백상아리')\n",
        "잡은물고기"
      ],
      "metadata": {
        "id": "EwQxJQcuqZXF"
      },
      "execution_count": null,
      "outputs": []
    },
    {
      "cell_type": "code",
      "source": [
        "잡은물고기.reverse()\n",
        "잡은물고기"
      ],
      "metadata": {
        "id": "2AMfsm82qyib"
      },
      "execution_count": null,
      "outputs": []
    },
    {
      "cell_type": "code",
      "source": [
        "잡은물고기.sort()\n",
        "잡은물고기"
      ],
      "metadata": {
        "id": "Mv1hEmqrq3CJ"
      },
      "execution_count": null,
      "outputs": []
    },
    {
      "cell_type": "markdown",
      "source": [
        "## 2. tuple\n",
        "\n",
        "1. 순서가 있습니다.\n",
        "2. 값은 변화를 줄 수 없습니다."
      ],
      "metadata": {
        "id": "PONbm4HMq6lu"
      }
    },
    {
      "cell_type": "code",
      "source": [
        "잡은물고기_튜플 = ('고등어',\n",
        " '고등어',\n",
        " '고등어',\n",
        " '광어',\n",
        " '광어',\n",
        " '광어',\n",
        " '광어',\n",
        " '광어',\n",
        " '백상아리',\n",
        " '백상아리',\n",
        " '백상아리',\n",
        " '오징어',\n",
        " '오징어')\n",
        "\n",
        "print(type(잡은물고기_튜플))\n",
        "print(dir(잡은물고기_튜플))"
      ],
      "metadata": {
        "id": "Y_XXU23fq_Ee"
      },
      "execution_count": null,
      "outputs": []
    },
    {
      "cell_type": "markdown",
      "source": [
        "## 3. 딕셔너리\n",
        "\n",
        "1. 순서가 없습니다.\n",
        "2. 키 값의 중복을 허락하지 않습니다.\n",
        "3. 값의 중복은 가능합니다.\n",
        "4. 순회는 가능합니다."
      ],
      "metadata": {
        "id": "UEFw3hCQrTuG"
      }
    },
    {
      "cell_type": "code",
      "source": [
        "# Dictionary의 구조\n",
        "# dic = { 'key' : 'value' }\n",
        "\n",
        "잡은물고기_딕셔너리 = {'광어' : 4, '고등어' : 4, '오징어' : 2, '백상아리' : 3}"
      ],
      "metadata": {
        "id": "RyDUYrypreKq"
      },
      "execution_count": 95,
      "outputs": []
    },
    {
      "cell_type": "code",
      "source": [
        "잡은물고기_딕셔너리['광어']\n",
        "del 잡은물고기_딕셔너리['고등어']\n",
        "잡은물고기_딕셔너리"
      ],
      "metadata": {
        "id": "yZRcGFX0rvEs"
      },
      "execution_count": null,
      "outputs": []
    },
    {
      "cell_type": "code",
      "source": [
        "print(type(잡은물고기_딕셔너리))\n",
        "print(dir(잡은물고기_딕셔너리))"
      ],
      "metadata": {
        "id": "NPnIQL6_sIwk"
      },
      "execution_count": null,
      "outputs": []
    },
    {
      "cell_type": "code",
      "source": [
        "잡은물고기_딕셔너리.items()"
      ],
      "metadata": {
        "id": "V2kH2FE1sQt3"
      },
      "execution_count": null,
      "outputs": []
    },
    {
      "cell_type": "code",
      "source": [
        "잡은물고기_딕셔너리.values()"
      ],
      "metadata": {
        "id": "pihtFyHXsTn4"
      },
      "execution_count": null,
      "outputs": []
    },
    {
      "cell_type": "code",
      "source": [
        "잡은물고기_딕셔너리.keys()"
      ],
      "metadata": {
        "id": "oQs4CUiEsVf4"
      },
      "execution_count": null,
      "outputs": []
    },
    {
      "cell_type": "code",
      "source": [
        "잡은물고기_딕셔너리_복사 = 잡은물고기_딕셔너리.copy()\n",
        "잡은물고기_딕셔너리_복사['백상아리'] = 10\n",
        "잡은물고기_딕셔너리_복사"
      ],
      "metadata": {
        "id": "THsVhe9VsW1X"
      },
      "execution_count": null,
      "outputs": []
    },
    {
      "cell_type": "code",
      "source": [
        "잡은물고기_딕셔너리"
      ],
      "metadata": {
        "id": "SazQj1RwsgoF"
      },
      "execution_count": null,
      "outputs": []
    },
    {
      "cell_type": "code",
      "source": [
        "# 잡은물고기_딕셔너리_복사 -> {'광어': 4, '오징어': 2, '백상아리': 3}\n",
        "# 잡은물고기_딕셔너리 -> {'광어': 4, '오징어': 2, '백상아리': 5}"
      ],
      "metadata": {
        "id": "pZ_NZ7bYshWq"
      },
      "execution_count": null,
      "outputs": []
    },
    {
      "cell_type": "markdown",
      "source": [
        "## 4. set\n",
        "\n",
        "1. 순서가 없습니다.\n",
        "2. 값의 중복을 허락하지 않습니다.\n",
        "3. 차집합, 교집합, 합집하 등의 연산이 가능합니다."
      ],
      "metadata": {
        "id": "jSCOmMGis5Jb"
      }
    },
    {
      "cell_type": "code",
      "source": [
        "잡은물고기"
      ],
      "metadata": {
        "id": "_5MZJSq2sowO"
      },
      "execution_count": null,
      "outputs": []
    },
    {
      "cell_type": "code",
      "source": [
        "set(잡은물고기)"
      ],
      "metadata": {
        "id": "UdkXrWIdtDTk"
      },
      "execution_count": null,
      "outputs": []
    },
    {
      "cell_type": "code",
      "source": [
        "test = set(잡은물고기)\n",
        "test"
      ],
      "metadata": {
        "id": "S-7wT2uGtiv7"
      },
      "execution_count": null,
      "outputs": []
    },
    {
      "cell_type": "code",
      "source": [
        "잡은물고기_집합 = {'고등어', '광어', '대왕오징어'}\n",
        "잡은물고기_집합"
      ],
      "metadata": {
        "id": "GbbFrklGtGRw"
      },
      "execution_count": null,
      "outputs": []
    },
    {
      "cell_type": "code",
      "source": [
        "print(type(잡은물고기_집합))\n",
        "print(dir(잡은물고기_집합))\n",
        "test.difference(잡은물고기_집합)\n",
        "test.intersection(잡은물고기_집합)\n",
        "test.union(잡은물고기_집합)"
      ],
      "metadata": {
        "id": "HOcH1Ru3tFXU"
      },
      "execution_count": null,
      "outputs": []
    },
    {
      "cell_type": "code",
      "source": [
        "set('aaabbcc')"
      ],
      "metadata": {
        "id": "3P-nXLXmt2Pk"
      },
      "execution_count": null,
      "outputs": []
    },
    {
      "cell_type": "markdown",
      "source": [
        "## 형변환\n",
        "\n",
        "- 기존 type에서 다른 type으로 변환"
      ],
      "metadata": {
        "id": "k-2KCKcm983l"
      }
    },
    {
      "cell_type": "code",
      "source": [
        "'10' + '10'"
      ],
      "metadata": {
        "id": "DNaQIW39-Aqk"
      },
      "execution_count": null,
      "outputs": []
    },
    {
      "cell_type": "code",
      "source": [
        "int('10') + int('10')"
      ],
      "metadata": {
        "id": "59szYEDa-CWl"
      },
      "execution_count": null,
      "outputs": []
    },
    {
      "cell_type": "code",
      "source": [
        "오늘_잡은_물고기_수 = '371'\n",
        "\n",
        "오늘_잡은_물고기_수 = int(오늘_잡은_물고기_수) + 10\n",
        "오늘_잡은_물고기_수"
      ],
      "metadata": {
        "id": "DKLV0R4e-Fkk"
      },
      "execution_count": null,
      "outputs": []
    },
    {
      "cell_type": "code",
      "source": [
        "int('kimido') # ValueError"
      ],
      "metadata": {
        "id": "pWRDCUY5-OI-"
      },
      "execution_count": null,
      "outputs": []
    },
    {
      "cell_type": "code",
      "source": [
        "s = '98710%'\n",
        "print((s[:-1]) * 2)\n",
        "print(int(s[:-1]) * 2)"
      ],
      "metadata": {
        "id": "UPnzWlZI_MqE"
      },
      "execution_count": null,
      "outputs": []
    },
    {
      "cell_type": "code",
      "source": [
        "print(\"bool('test') :\", bool('test')) # True\n",
        "print(\"bool(1) :\", bool(1)) # True\n",
        "print(\"bool(0) :\", bool(0)) # False\n",
        "print(\"bool(-1) :\", bool(-1)) # True\n",
        "print(\"bool(' ') :\", bool(' ')) # True\n",
        "print(\"bool('') :\", bool('')) # False\n",
        "print(\"bool(None) :\", bool(None)) # False"
      ],
      "metadata": {
        "id": "uzOuZ3u-_vf5"
      },
      "execution_count": null,
      "outputs": []
    },
    {
      "cell_type": "code",
      "source": [
        "print(f'bool([1, 2, 3]) : {bool([1, 2, 3])}') # True\n",
        "print(f'bool([]) : {bool([])}') # False"
      ],
      "metadata": {
        "id": "GtAnn4gbAX1_"
      },
      "execution_count": null,
      "outputs": []
    },
    {
      "cell_type": "code",
      "source": [
        "tuple([1, 2, 3,])"
      ],
      "metadata": {
        "id": "sRJJQRHgAdck"
      },
      "execution_count": null,
      "outputs": []
    },
    {
      "cell_type": "code",
      "source": [
        "t = (1, 2, 3)\n",
        "list(t)"
      ],
      "metadata": {
        "id": "JAvImvLCA2ac"
      },
      "execution_count": null,
      "outputs": []
    },
    {
      "cell_type": "code",
      "source": [
        "dict([('key1', 'value1'), ('key2', 'value2'), ('key3', 'value3')])"
      ],
      "metadata": {
        "id": "VlwSnWhQA6E8"
      },
      "execution_count": null,
      "outputs": []
    },
    {
      "cell_type": "code",
      "source": [
        "x = int(input('좋아하는 숫자를 입력하세요: '))\n",
        "x + x\n",
        "# print(type(x))\n",
        "# print(dir(x))"
      ],
      "metadata": {
        "id": "EWqBlHWnBGPt"
      },
      "execution_count": null,
      "outputs": []
    },
    {
      "cell_type": "code",
      "source": [
        "print('hello', end='!!')\n",
        "print('hello', end='!!')\n",
        "print('hello', end='!!')\n",
        "print('hello', end='!!')"
      ],
      "metadata": {
        "id": "NYjYC1IdBLjy"
      },
      "execution_count": null,
      "outputs": []
    },
    {
      "cell_type": "code",
      "source": [
        "이름 = '캣'\n",
        "나이 = 12\n",
        "\n",
        "print('1. 제 이름은', 이름, '입니다. 제 나이는', 나이, '입니다.')\n",
        "print(f'2. 제 이름은 {이름} 입니다. 제 나이는 {나이} 입니다.') # 많이 사용됨\n",
        "print('3. 제 이름은 {} 입니다. 제 나이는 {} 입니다.'.format(이름, 나이))\n",
        "print('4. 제 이름은 %s 입니다. 제 나이는 %d 입니다.'%(이름, 나이))"
      ],
      "metadata": {
        "id": "HYqQDZfNBqME"
      },
      "execution_count": null,
      "outputs": []
    },
    {
      "cell_type": "markdown",
      "source": [
        "# 2장 생선을 잡아라!\n",
        "\n",
        "## 2.1 산술연산자"
      ],
      "metadata": {
        "id": "Bzy-_khaC92O"
      }
    },
    {
      "cell_type": "code",
      "source": [
        "오늘_잡은_물고기 = 0\n",
        "오늘_판_물고기 = 0\n",
        "매출 = 0"
      ],
      "metadata": {
        "id": "GOP3kHACCIy5"
      },
      "execution_count": 152,
      "outputs": []
    },
    {
      "cell_type": "code",
      "source": [
        "오늘_잡은_물고기 = 오늘_잡은_물고기 + 10\n",
        "오늘_판_물고기 = 오늘_잡은_물고기\n",
        "재고 = 오늘_잡은_물고기 - 오늘_판_물고기\n",
        "매출 = 오늘_판_물고기 * 100 # 모든 물고기는 100원"
      ],
      "metadata": {
        "id": "qIcrLaCCDGHR"
      },
      "execution_count": 153,
      "outputs": []
    },
    {
      "cell_type": "code",
      "source": [
        "print(f'나는 오늘 {오늘_잡은_물고기}마리를 잡았고 {오늘_판_물고기}마리를 팔았다냥')\n",
        "print(f'오늘 재고는 {재고}마리다냥!')\n",
        "# 매일 2배씩 성장하는 것을 목표로 삼았습니다.\n",
        "print(f'오늘 {매출}원을 벌었으니 내일은 {매출*2}원을 벌테다냥!')"
      ],
      "metadata": {
        "id": "dbXAtbgDDUgu"
      },
      "execution_count": null,
      "outputs": []
    },
    {
      "cell_type": "code",
      "source": [
        "# A등급: 1000원, B등급: 500원, C등급: 100원\n",
        "# 오늘 잡은 물고기: A등급 5마리, B등급 7마리, C등급 10마리\n",
        "\n",
        "등급별_가격 = {'A등급':1000, 'B등급':500, 'C등급':100}\n",
        "\n",
        "A등급 = 5\n",
        "B등급 = 7\n",
        "C등급 = 10\n",
        "매출 = 0"
      ],
      "metadata": {
        "id": "Q366G0RzD6-u"
      },
      "execution_count": 157,
      "outputs": []
    },
    {
      "cell_type": "code",
      "source": [
        "# 손님의 주문\n",
        "# A등급 2마리, B등급 3마리 주세요.\n",
        "# 받은 돈 = 4000원\n",
        "\n",
        "A등급 = A등급 - 2\n",
        "B등급 = B등급 - 3\n",
        "\n",
        "# 합계 = (1000 * 2) + (500 * 3)\n",
        "합계 = (등급별_가격['A등급'] * 2) + (등급별_가격['B등급'] * 3)\n",
        "받은_돈 = 4000\n",
        "\n",
        "print(f'감사합나디. 여기 거스름돈 {받은_돈 - 합계}원 입니다.')\n",
        "\n",
        "재고 = A등급 + B등급 + C등급\n",
        "매출 += 합계\n",
        "\n",
        "print(f'현재 매출: {매출}, 재고: {재고}')"
      ],
      "metadata": {
        "id": "zeMfArdKEMk7"
      },
      "execution_count": null,
      "outputs": []
    },
    {
      "cell_type": "code",
      "source": [
        "세금 = 매출/4\n",
        "순익 = 매출 - 세금\n",
        "\n",
        "매출, 세금, 순익"
      ],
      "metadata": {
        "colab": {
          "base_uri": "https://localhost:8080/"
        },
        "id": "bwCN1n44YFKs",
        "outputId": "adbc04ed-20d5-4711-8183-5535c28c99ae"
      },
      "execution_count": 159,
      "outputs": [
        {
          "output_type": "execute_result",
          "data": {
            "text/plain": [
              "(3500, 875.0, 2625.0)"
            ]
          },
          "metadata": {},
          "execution_count": 159
        }
      ]
    },
    {
      "cell_type": "code",
      "source": [
        "# 산술연산자 정리\n",
        "10 + 10\n",
        "10 - 10\n",
        "10 / 3 # float\n",
        "10 // 3 # int\n",
        "10 * 3\n",
        "3 ** 3\n",
        "3 ** 2\n",
        "10 % 3\n",
        "10 % 2\n",
        "# ++a 이러한 연산은 없습니다.\n",
        "# --a 이러한 연산은 없습니다."
      ],
      "metadata": {
        "id": "1WVNZ_AaYuLp"
      },
      "execution_count": null,
      "outputs": []
    },
    {
      "cell_type": "code",
      "source": [
        "오늘_잡은_물고기 += 10 # 할당연산\n",
        "오늘_잡은_물고기"
      ],
      "metadata": {
        "colab": {
          "base_uri": "https://localhost:8080/"
        },
        "id": "4AVW_XeWZRwM",
        "outputId": "dfd640f3-713a-4a92-c2ae-0ba857fdabb2"
      },
      "execution_count": 162,
      "outputs": [
        {
          "output_type": "execute_result",
          "data": {
            "text/plain": [
              "40"
            ]
          },
          "metadata": {},
          "execution_count": 162
        }
      ]
    },
    {
      "cell_type": "code",
      "source": [],
      "metadata": {
        "id": "l3wP8B7gZXvP"
      },
      "execution_count": null,
      "outputs": []
    }
  ]
}
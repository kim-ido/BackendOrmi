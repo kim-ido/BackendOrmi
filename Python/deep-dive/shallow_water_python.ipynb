{
  "nbformat": 4,
  "nbformat_minor": 0,
  "metadata": {
    "colab": {
      "provenance": []
    },
    "kernelspec": {
      "name": "python3",
      "display_name": "Python 3"
    },
    "language_info": {
      "name": "python"
    }
  },
  "cells": [
    {
      "cell_type": "code",
      "execution_count": null,
      "metadata": {
        "id": "n5OcDPw8GF6z"
      },
      "outputs": [],
      "source": [
        "# 라이캣의 개인정보 입력하기\n",
        "\n",
        "이름 = '캣'\n",
        "설명 = '위니브 월드 외곽에 살고있는 생선가게 주인 캣'\n",
        "나이 = 10\n",
        "오늘_잡은_물고기 = '10'\n",
        "키 = '45cm'\n",
        "몸무게 = 1.2\n",
        "육식 = True\n",
        "초식 = True\n",
        "돈 = 1000\n",
        "훈장 = []\n",
        "기술 = ['고기잡이', '고기팔기']\n",
        "\n",
        "'''\n",
        "라이캣의 개인정보입니다.\n",
        "성장함에 따라 해당 값이 변합니다.\n",
        "\n",
        "주의) 마음대로 성장시키지 마세요!\n",
        "'''"
      ]
    },
    {
      "cell_type": "code",
      "source": [
        "이름\n",
        "나이\n",
        "print(이름)\n",
        "print(나이)"
      ],
      "metadata": {
        "id": "nwNHH6Y3L5rA"
      },
      "execution_count": null,
      "outputs": []
    },
    {
      "cell_type": "code",
      "source": [
        "나이 = 11\n",
        "나이"
      ],
      "metadata": {
        "id": "y0QU8htyMCnH"
      },
      "execution_count": null,
      "outputs": []
    },
    {
      "cell_type": "code",
      "source": [
        "나이 = 나이 + 1"
      ],
      "metadata": {
        "id": "qrSRf36WNweM"
      },
      "execution_count": null,
      "outputs": []
    },
    {
      "cell_type": "code",
      "source": [
        "나이"
      ],
      "metadata": {
        "id": "jyKbooqkNxxS"
      },
      "execution_count": null,
      "outputs": []
    },
    {
      "cell_type": "markdown",
      "source": [
        "## 변수의 규칙\n",
        "\n",
        "1. 변수 중간에 띄어쓰기를 하지 않습니다. 띄어쓰기를 명시하고 싶으실 때에는 언더스코어(`_`)를 사용하세요!\n",
        "2. 첫 글자는 숫자나 특수문자를 쓰지 않습니다. 물론 언더스코어(`_`) 제외입니다.\n",
        "3. 첫 글자를 대문자로 쓰지 않습니다. (Class가 대문자로 쓰기 때문이지만, 대문자로 써도 실행됩니다.)\n",
        "4. 예약어를 사용하지 않습니다. 예를 들어 뒤에 'print' 구문이 나오는데요. 이러한 함수명이나 구문은 변수명으로 사용하지 않습니다.\n",
        "5. 변수명은 대소문자를 가립니다! `Apple`과 `apple`은 다른 변수가 됩니다."
      ],
      "metadata": {
        "id": "wZBbdOwOVnC7"
      }
    },
    {
      "cell_type": "code",
      "source": [
        "오늘_잡은_물고기 + 1 # TypeError"
      ],
      "metadata": {
        "id": "I3odkHSyN02P"
      },
      "execution_count": null,
      "outputs": []
    },
    {
      "cell_type": "code",
      "source": [
        "int(오늘_잡은_물고기) + 1"
      ],
      "metadata": {
        "id": "UAxQ-eQSVg9w"
      },
      "execution_count": null,
      "outputs": []
    },
    {
      "cell_type": "code",
      "source": [
        "print(type(오늘_잡은_물고기))"
      ],
      "metadata": {
        "id": "4Q56drbuWww6"
      },
      "execution_count": null,
      "outputs": []
    },
    {
      "cell_type": "code",
      "source": [
        "print(type(이름)) # '캣'\n",
        "print(type(나이)) # 현재 12\n",
        "print(type(오늘_잡은_물고기)) # 현재 10\n",
        "print(type(몸무게))\n",
        "print(type(육식)) # True\n",
        "print(type(기술)) # ['고기잡이', '고기팔기']\n",
        "\n",
        "'''\n",
        "<class 'str'>\n",
        "<class 'int'>\n",
        "<class 'str'>\n",
        "<class 'float'>\n",
        "<class 'bool'>\n",
        "<class 'list'>\n",
        "'''"
      ],
      "metadata": {
        "id": "C5Q6jku3W0wC"
      },
      "execution_count": null,
      "outputs": []
    },
    {
      "cell_type": "markdown",
      "source": [
        "1. <class 'str'> - string, 문자열\n",
        "2. <class 'int'> - integer, 정수형\n",
        "3. <class 'float'> - float, 실수형\n",
        "4. <class 'bool'> - bool, boolean, 참거짓형\n",
        "5. <class 'list'> - list, 배열"
      ],
      "metadata": {
        "id": "Q4fh-U66XOZo"
      }
    },
    {
      "cell_type": "code",
      "source": [
        "# 1. int\n",
        "\n",
        "print(type(나이))\n",
        "print(dir(나이))"
      ],
      "metadata": {
        "id": "1PI3smDbXBrA"
      },
      "execution_count": null,
      "outputs": []
    },
    {
      "cell_type": "code",
      "source": [
        "나이 = 10\n",
        "print(나이.bit_length())\n",
        "print(bin(나이))\n",
        "\n",
        "나이_90년_후 = 100\n",
        "print(나이_90년_후.bit_length())\n",
        "print(bin(나이_90년_후))"
      ],
      "metadata": {
        "id": "z7LTueOsd_w7"
      },
      "execution_count": null,
      "outputs": []
    },
    {
      "cell_type": "code",
      "source": [
        "# 1.2 float\n",
        "\n",
        "print(몸무게)\n",
        "print(type(몸무게))\n",
        "print(dir(몸무게))\n",
        "\n",
        "print(몸무게 + 10)"
      ],
      "metadata": {
        "id": "JHy8JiEces2R"
      },
      "execution_count": null,
      "outputs": []
    },
    {
      "cell_type": "code",
      "source": [
        "# 3. str\n",
        "# 시퀀스형 자료형\n",
        "\n",
        "# index, indexing\n",
        "print(설명)\n",
        "print(설명[0])\n",
        "print(설명[1])\n",
        "print(설명[2])\n",
        "print(기술)\n",
        "print(기술[0])\n",
        "print(기술[1])\n",
        "# print(설명[0])\n",
        "# print(설명[0])"
      ],
      "metadata": {
        "id": "8FE2YFTbe6-8"
      },
      "execution_count": null,
      "outputs": []
    },
    {
      "cell_type": "code",
      "source": [
        "# slicing\n",
        "# 변수이름 [start:stop:step(생략 가능)]\n",
        "print(설명)\n",
        "print(설명[0:3])\n",
        "print(설명[0:6])\n",
        "print(설명[0:9])"
      ],
      "metadata": {
        "id": "w5xqWnVFgAvN"
      },
      "execution_count": null,
      "outputs": []
    },
    {
      "cell_type": "code",
      "source": [
        "캣의_생년월일 = '2220.02.22'\n",
        "생년 = 캣의_생년월일[:4]\n",
        "월 = 캣의_생년월일[5:7]\n",
        "일 = 캣의_생년월일[8:]\n",
        "print(생년, 월, 일)"
      ],
      "metadata": {
        "id": "ubow666UgSxc"
      },
      "execution_count": null,
      "outputs": []
    },
    {
      "cell_type": "code",
      "source": [
        "숫자 = '123456789101112'\n",
        "print(숫자[::-1])\n",
        "print(숫자[::2])\n",
        "print(숫자[1:7:2])\n",
        "print(숫자[7::-1])\n",
        "print(숫자[-1])"
      ],
      "metadata": {
        "id": "_3GbrOL9hCbu"
      },
      "execution_count": null,
      "outputs": []
    },
    {
      "cell_type": "code",
      "source": [
        "print(설명)\n",
        "print(type(설명))\n",
        "print(dir(설명))\n",
        "'''\n",
        "'capitalize', 'casefold', 'center', 'count', 'encode', 'endswith', 'expandtabs',\n",
        "'find', 'format', 'format_map', 'index', 'isalnum', 'isalpha', 'isascii',\n",
        "'isdecimal', 'isdigit', 'isidentifier', 'islower', 'isnumeric', 'isprintable',\n",
        "'isspace', 'istitle', 'isupper', 'join', 'ljust', 'lower', 'lstrip',\n",
        "'maketrans', 'partition', 'removeprefix', 'removesuffix', 'replace', 'rfind',\n",
        "'rindex', 'rjust', 'rpartition', 'rsplit', 'rstrip', 'split', 'splitlines',\n",
        "'startswith', 'strip', 'swapcase', 'title', 'translate', 'upper', 'zfill']\n",
        "'''"
      ],
      "metadata": {
        "id": "Lb4bHLjmikJv"
      },
      "execution_count": null,
      "outputs": []
    },
    {
      "cell_type": "code",
      "source": [
        "숫자.count('1')\n",
        "설명.upper()\n",
        "설명.lower()\n",
        "'           hello world'.lstrip()\n",
        "'           hello world'.strip()\n",
        "'           hello world'.replace(' ', '!')\n",
        "설명.index('곽')\n",
        "설명[설명.index('곽')] # 설명[8]\n",
        "설명.find('곽')\n",
        "설명[설명.find('곽')]\n",
        "\n",
        "설명.index('똬') # ValueError\n",
        "설명.find('똬')"
      ],
      "metadata": {
        "id": "-dQR6otji4Ze"
      },
      "execution_count": null,
      "outputs": []
    },
    {
      "cell_type": "code",
      "source": [
        "# bool\n",
        "\n",
        "육식 = True\n",
        "초식 = True\n",
        "print(type(육식))\n",
        "print(dir(육식))"
      ],
      "metadata": {
        "id": "W0I9ADBOjp9N"
      },
      "execution_count": null,
      "outputs": []
    },
    {
      "cell_type": "markdown",
      "source": [
        "## 1. list\n",
        "\n",
        "1. 순서가 있습니다.\n",
        "2. 수정이 가능합니다.\n",
        "3. 순회가 가능합니다.\n",
        "4. 값의 중복을 허락합니다."
      ],
      "metadata": {
        "id": "XEsxfBoCoqvv"
      }
    },
    {
      "cell_type": "code",
      "source": [
        "# list, tuple, dict, set\n",
        "\n",
        "# 1. list\n",
        "\n",
        "훈장 = []\n",
        "기술 = ['고기잡이', '고기팔기']\n",
        "print(type(기술))\n",
        "print(dir(기술))\n",
        "'''\n",
        "'append', 'clear', 'copy', 'count', 'extend',\n",
        "'index', 'insert', 'pop', 'remove', 'reverse', 'sort'\n",
        "'''"
      ],
      "metadata": {
        "id": "Tgbsw_grolAd"
      },
      "execution_count": null,
      "outputs": []
    },
    {
      "cell_type": "code",
      "source": [
        "잡은물고기 = ['광어', '고등어', '오징어', '오징어', '광어',\n",
        "              '광어', '고등어', '고등어', '백상아리', '금붕어']\n",
        "\n",
        "print(잡은물고기[0])\n",
        "print(잡은물고기[:3])\n",
        "print(잡은물고기[:7:2])\n",
        "잡은물고기[-1] = '백상아리'"
      ],
      "metadata": {
        "id": "1OThieX9o_57"
      },
      "execution_count": null,
      "outputs": []
    },
    {
      "cell_type": "code",
      "source": [
        "잡은물고기.count()\n",
        "잡은물고기.append('백상아리')\n",
        "잡은물고기\n",
        "# 잡은물고기.clear()\n",
        "# 잡은물고기.copy"
      ],
      "metadata": {
        "id": "Kx5cm0NwpdcU"
      },
      "execution_count": null,
      "outputs": []
    },
    {
      "cell_type": "code",
      "source": [
        "잡은물고기.extend(['광어', '광어', '고등어'])\n",
        "잡은물고기"
      ],
      "metadata": {
        "id": "lhbRJPFzp8mG"
      },
      "execution_count": null,
      "outputs": []
    },
    {
      "cell_type": "code",
      "source": [
        "잡은물고기.index('백상아리')\n",
        "잡은물고기.insert(3, '백상아리')\n",
        "잡은물고기.pop() \n",
        "# pop 안에 index를 넣어 지울 수 있습니다.\n",
        "# del 잡은물고기[0]\n",
        "잡은물고기"
      ],
      "metadata": {
        "id": "z2xilWSSqGpE"
      },
      "execution_count": null,
      "outputs": []
    },
    {
      "cell_type": "code",
      "source": [
        "잡은물고기.remove('백상아리')\n",
        "잡은물고기"
      ],
      "metadata": {
        "id": "EwQxJQcuqZXF"
      },
      "execution_count": null,
      "outputs": []
    },
    {
      "cell_type": "code",
      "source": [
        "잡은물고기.reverse()\n",
        "잡은물고기"
      ],
      "metadata": {
        "id": "2AMfsm82qyib"
      },
      "execution_count": null,
      "outputs": []
    },
    {
      "cell_type": "code",
      "source": [
        "잡은물고기.sort()\n",
        "잡은물고기"
      ],
      "metadata": {
        "id": "Mv1hEmqrq3CJ"
      },
      "execution_count": null,
      "outputs": []
    },
    {
      "cell_type": "markdown",
      "source": [
        "## 2. tuple\n",
        "\n",
        "1. 순서가 있습니다.\n",
        "2. 값은 변화를 줄 수 없습니다."
      ],
      "metadata": {
        "id": "PONbm4HMq6lu"
      }
    },
    {
      "cell_type": "code",
      "source": [
        "잡은물고기_튜플 = ('고등어',\n",
        " '고등어',\n",
        " '고등어',\n",
        " '광어',\n",
        " '광어',\n",
        " '광어',\n",
        " '광어',\n",
        " '광어',\n",
        " '백상아리',\n",
        " '백상아리',\n",
        " '백상아리',\n",
        " '오징어',\n",
        " '오징어')\n",
        "\n",
        "print(type(잡은물고기_튜플))\n",
        "print(dir(잡은물고기_튜플))"
      ],
      "metadata": {
        "id": "Y_XXU23fq_Ee"
      },
      "execution_count": null,
      "outputs": []
    },
    {
      "cell_type": "markdown",
      "source": [
        "## 3. 딕셔너리\n",
        "\n",
        "1. 순서가 없습니다.\n",
        "2. 키 값의 중복을 허락하지 않습니다.\n",
        "3. 값의 중복은 가능합니다.\n",
        "4. 순회는 가능합니다."
      ],
      "metadata": {
        "id": "UEFw3hCQrTuG"
      }
    },
    {
      "cell_type": "code",
      "source": [
        "# Dictionary의 구조\n",
        "# dic = { 'key' : 'value' }\n",
        "\n",
        "잡은물고기_딕셔너리 = {'광어' : 4, '고등어' : 4, '오징어' : 2, '백상아리' : 3}"
      ],
      "metadata": {
        "id": "RyDUYrypreKq"
      },
      "execution_count": null,
      "outputs": []
    },
    {
      "cell_type": "code",
      "source": [
        "잡은물고기_딕셔너리['광어']\n",
        "del 잡은물고기_딕셔너리['고등어']\n",
        "잡은물고기_딕셔너리"
      ],
      "metadata": {
        "id": "yZRcGFX0rvEs"
      },
      "execution_count": null,
      "outputs": []
    },
    {
      "cell_type": "code",
      "source": [
        "print(type(잡은물고기_딕셔너리))\n",
        "print(dir(잡은물고기_딕셔너리))"
      ],
      "metadata": {
        "id": "NPnIQL6_sIwk"
      },
      "execution_count": null,
      "outputs": []
    },
    {
      "cell_type": "code",
      "source": [
        "잡은물고기_딕셔너리.items()"
      ],
      "metadata": {
        "id": "V2kH2FE1sQt3"
      },
      "execution_count": null,
      "outputs": []
    },
    {
      "cell_type": "code",
      "source": [
        "잡은물고기_딕셔너리.values()"
      ],
      "metadata": {
        "id": "pihtFyHXsTn4"
      },
      "execution_count": null,
      "outputs": []
    },
    {
      "cell_type": "code",
      "source": [
        "잡은물고기_딕셔너리.keys()"
      ],
      "metadata": {
        "id": "oQs4CUiEsVf4"
      },
      "execution_count": null,
      "outputs": []
    },
    {
      "cell_type": "code",
      "source": [
        "잡은물고기_딕셔너리_복사 = 잡은물고기_딕셔너리.copy()\n",
        "잡은물고기_딕셔너리_복사['백상아리'] = 10\n",
        "잡은물고기_딕셔너리_복사"
      ],
      "metadata": {
        "id": "THsVhe9VsW1X"
      },
      "execution_count": null,
      "outputs": []
    },
    {
      "cell_type": "code",
      "source": [
        "잡은물고기_딕셔너리"
      ],
      "metadata": {
        "id": "SazQj1RwsgoF"
      },
      "execution_count": null,
      "outputs": []
    },
    {
      "cell_type": "code",
      "source": [
        "# 잡은물고기_딕셔너리_복사 -> {'광어': 4, '오징어': 2, '백상아리': 3}\n",
        "# 잡은물고기_딕셔너리 -> {'광어': 4, '오징어': 2, '백상아리': 5}"
      ],
      "metadata": {
        "id": "pZ_NZ7bYshWq"
      },
      "execution_count": null,
      "outputs": []
    },
    {
      "cell_type": "markdown",
      "source": [
        "## 4. set\n",
        "\n",
        "1. 순서가 없습니다.\n",
        "2. 값의 중복을 허락하지 않습니다.\n",
        "3. 차집합, 교집합, 합집하 등의 연산이 가능합니다."
      ],
      "metadata": {
        "id": "jSCOmMGis5Jb"
      }
    },
    {
      "cell_type": "code",
      "source": [
        "잡은물고기"
      ],
      "metadata": {
        "id": "_5MZJSq2sowO"
      },
      "execution_count": null,
      "outputs": []
    },
    {
      "cell_type": "code",
      "source": [
        "set(잡은물고기)"
      ],
      "metadata": {
        "id": "UdkXrWIdtDTk"
      },
      "execution_count": null,
      "outputs": []
    },
    {
      "cell_type": "code",
      "source": [
        "test = set(잡은물고기)\n",
        "test"
      ],
      "metadata": {
        "id": "S-7wT2uGtiv7"
      },
      "execution_count": null,
      "outputs": []
    },
    {
      "cell_type": "code",
      "source": [
        "잡은물고기_집합 = {'고등어', '광어', '대왕오징어'}\n",
        "잡은물고기_집합"
      ],
      "metadata": {
        "id": "GbbFrklGtGRw"
      },
      "execution_count": null,
      "outputs": []
    },
    {
      "cell_type": "code",
      "source": [
        "print(type(잡은물고기_집합))\n",
        "print(dir(잡은물고기_집합))\n",
        "test.difference(잡은물고기_집합)\n",
        "test.intersection(잡은물고기_집합)\n",
        "test.union(잡은물고기_집합)"
      ],
      "metadata": {
        "id": "HOcH1Ru3tFXU"
      },
      "execution_count": null,
      "outputs": []
    },
    {
      "cell_type": "code",
      "source": [
        "set('aaabbcc')"
      ],
      "metadata": {
        "id": "3P-nXLXmt2Pk"
      },
      "execution_count": null,
      "outputs": []
    },
    {
      "cell_type": "markdown",
      "source": [
        "## 형변환\n",
        "\n",
        "- 기존 type에서 다른 type으로 변환"
      ],
      "metadata": {
        "id": "k-2KCKcm983l"
      }
    },
    {
      "cell_type": "code",
      "source": [
        "'10' + '10'"
      ],
      "metadata": {
        "id": "DNaQIW39-Aqk"
      },
      "execution_count": null,
      "outputs": []
    },
    {
      "cell_type": "code",
      "source": [
        "int('10') + int('10')"
      ],
      "metadata": {
        "id": "59szYEDa-CWl"
      },
      "execution_count": null,
      "outputs": []
    },
    {
      "cell_type": "code",
      "source": [
        "오늘_잡은_물고기_수 = '371'\n",
        "\n",
        "오늘_잡은_물고기_수 = int(오늘_잡은_물고기_수) + 10\n",
        "오늘_잡은_물고기_수"
      ],
      "metadata": {
        "id": "DKLV0R4e-Fkk"
      },
      "execution_count": null,
      "outputs": []
    },
    {
      "cell_type": "code",
      "source": [
        "int('kimido') # ValueError"
      ],
      "metadata": {
        "id": "pWRDCUY5-OI-"
      },
      "execution_count": null,
      "outputs": []
    },
    {
      "cell_type": "code",
      "source": [
        "s = '98710%'\n",
        "print((s[:-1]) * 2)\n",
        "print(int(s[:-1]) * 2)"
      ],
      "metadata": {
        "id": "UPnzWlZI_MqE"
      },
      "execution_count": null,
      "outputs": []
    },
    {
      "cell_type": "code",
      "source": [
        "print(\"bool('test') :\", bool('test')) # True\n",
        "print(\"bool(1) :\", bool(1)) # True\n",
        "print(\"bool(0) :\", bool(0)) # False\n",
        "print(\"bool(-1) :\", bool(-1)) # True\n",
        "print(\"bool(' ') :\", bool(' ')) # True\n",
        "print(\"bool('') :\", bool('')) # False\n",
        "print(\"bool(None) :\", bool(None)) # False"
      ],
      "metadata": {
        "id": "uzOuZ3u-_vf5"
      },
      "execution_count": null,
      "outputs": []
    },
    {
      "cell_type": "code",
      "source": [
        "print(f'bool([1, 2, 3]) : {bool([1, 2, 3])}') # True\n",
        "print(f'bool([]) : {bool([])}') # False"
      ],
      "metadata": {
        "id": "GtAnn4gbAX1_"
      },
      "execution_count": null,
      "outputs": []
    },
    {
      "cell_type": "code",
      "source": [
        "tuple([1, 2, 3,])"
      ],
      "metadata": {
        "id": "sRJJQRHgAdck"
      },
      "execution_count": null,
      "outputs": []
    },
    {
      "cell_type": "code",
      "source": [
        "t = (1, 2, 3)\n",
        "list(t)"
      ],
      "metadata": {
        "id": "JAvImvLCA2ac"
      },
      "execution_count": null,
      "outputs": []
    },
    {
      "cell_type": "code",
      "source": [
        "dict([('key1', 'value1'), ('key2', 'value2'), ('key3', 'value3')])"
      ],
      "metadata": {
        "id": "VlwSnWhQA6E8"
      },
      "execution_count": null,
      "outputs": []
    },
    {
      "cell_type": "code",
      "source": [
        "x = int(input('좋아하는 숫자를 입력하세요: '))\n",
        "x + x\n",
        "# print(type(x))\n",
        "# print(dir(x))"
      ],
      "metadata": {
        "id": "EWqBlHWnBGPt"
      },
      "execution_count": null,
      "outputs": []
    },
    {
      "cell_type": "code",
      "source": [
        "print('hello', end='!!')\n",
        "print('hello', end='!!')\n",
        "print('hello', end='!!')\n",
        "print('hello', end='!!')"
      ],
      "metadata": {
        "id": "NYjYC1IdBLjy"
      },
      "execution_count": null,
      "outputs": []
    },
    {
      "cell_type": "code",
      "source": [
        "이름 = '캣'\n",
        "나이 = 12\n",
        "\n",
        "print('1. 제 이름은', 이름, '입니다. 제 나이는', 나이, '입니다.')\n",
        "print(f'2. 제 이름은 {이름} 입니다. 제 나이는 {나이} 입니다.') # 많이 사용됨\n",
        "print('3. 제 이름은 {} 입니다. 제 나이는 {} 입니다.'.format(이름, 나이))\n",
        "print('4. 제 이름은 %s 입니다. 제 나이는 %d 입니다.'%(이름, 나이))"
      ],
      "metadata": {
        "id": "HYqQDZfNBqME"
      },
      "execution_count": null,
      "outputs": []
    },
    {
      "cell_type": "markdown",
      "source": [
        "## 산술연산자"
      ],
      "metadata": {
        "id": "Bzy-_khaC92O"
      }
    },
    {
      "cell_type": "code",
      "source": [
        "오늘_잡은_물고기 = 0\n",
        "오늘_판_물고기 = 0\n",
        "매출 = 0"
      ],
      "metadata": {
        "id": "GOP3kHACCIy5"
      },
      "execution_count": null,
      "outputs": []
    },
    {
      "cell_type": "code",
      "source": [
        "오늘_잡은_물고기 = 오늘_잡은_물고기 + 10\n",
        "오늘_판_물고기 = 오늘_잡은_물고기\n",
        "재고 = 오늘_잡은_물고기 - 오늘_판_물고기\n",
        "매출 = 오늘_판_물고기 * 100 # 모든 물고기는 100원"
      ],
      "metadata": {
        "id": "qIcrLaCCDGHR"
      },
      "execution_count": null,
      "outputs": []
    },
    {
      "cell_type": "code",
      "source": [
        "print(f'나는 오늘 {오늘_잡은_물고기}마리를 잡았고 {오늘_판_물고기}마리를 팔았다냥')\n",
        "print(f'오늘 재고는 {재고}마리다냥!')\n",
        "# 매일 2배씩 성장하는 것을 목표로 삼았습니다.\n",
        "print(f'오늘 {매출}원을 벌었으니 내일은 {매출*2}원을 벌테다냥!')"
      ],
      "metadata": {
        "id": "dbXAtbgDDUgu"
      },
      "execution_count": null,
      "outputs": []
    },
    {
      "cell_type": "code",
      "source": [
        "# A등급: 1000원, B등급: 500원, C등급: 100원\n",
        "# 오늘 잡은 물고기: A등급 5마리, B등급 7마리, C등급 10마리\n",
        "\n",
        "등급별_가격 = {'A등급':1000, 'B등급':500, 'C등급':100}\n",
        "\n",
        "A등급 = 5\n",
        "B등급 = 7\n",
        "C등급 = 10\n",
        "매출 = 0"
      ],
      "metadata": {
        "id": "Q366G0RzD6-u"
      },
      "execution_count": null,
      "outputs": []
    },
    {
      "cell_type": "code",
      "source": [
        "# 손님의 주문\n",
        "# A등급 2마리, B등급 3마리 주세요.\n",
        "# 받은 돈 = 4000원\n",
        "\n",
        "A등급 = A등급 - 2\n",
        "B등급 = B등급 - 3\n",
        "\n",
        "# 합계 = (1000 * 2) + (500 * 3)\n",
        "합계 = (등급별_가격['A등급'] * 2) + (등급별_가격['B등급'] * 3)\n",
        "받은_돈 = 4000\n",
        "\n",
        "print(f'감사합나디. 여기 거스름돈 {받은_돈 - 합계}원 입니다.')\n",
        "\n",
        "재고 = A등급 + B등급 + C등급\n",
        "매출 += 합계\n",
        "\n",
        "print(f'현재 매출: {매출}, 재고: {재고}')"
      ],
      "metadata": {
        "id": "zeMfArdKEMk7"
      },
      "execution_count": null,
      "outputs": []
    },
    {
      "cell_type": "code",
      "source": [
        "세금 = 매출/4\n",
        "순익 = 매출 - 세금\n",
        "\n",
        "매출, 세금, 순익"
      ],
      "metadata": {
        "colab": {
          "base_uri": "https://localhost:8080/"
        },
        "id": "bwCN1n44YFKs",
        "outputId": "adbc04ed-20d5-4711-8183-5535c28c99ae"
      },
      "execution_count": null,
      "outputs": [
        {
          "output_type": "execute_result",
          "data": {
            "text/plain": [
              "(3500, 875.0, 2625.0)"
            ]
          },
          "metadata": {},
          "execution_count": 159
        }
      ]
    },
    {
      "cell_type": "code",
      "source": [
        "# 산술연산자 정리\n",
        "10 + 10\n",
        "10 - 10\n",
        "10 / 3 # float\n",
        "10 // 3 # int\n",
        "10 * 3\n",
        "3 ** 3\n",
        "3 ** 2\n",
        "10 % 3\n",
        "10 % 2\n",
        "# ++a 이러한 연산은 없습니다.\n",
        "# --a 이러한 연산은 없습니다."
      ],
      "metadata": {
        "id": "1WVNZ_AaYuLp"
      },
      "execution_count": null,
      "outputs": []
    },
    {
      "cell_type": "code",
      "source": [
        "오늘_잡은_물고기 += 10 # 할당연산\n",
        "오늘_잡은_물고기"
      ],
      "metadata": {
        "id": "4AVW_XeWZRwM"
      },
      "execution_count": null,
      "outputs": []
    },
    {
      "cell_type": "code",
      "source": [
        "오늘_잡은_물고기\n",
        "오늘_판_물고기\n",
        "\n",
        "print(오늘_잡은_물고기 > 오늘_판_물고기)\n",
        "print(오늘_잡은_물고기 < 오늘_판_물고기)\n",
        "print(오늘_잡은_물고기 >= 오늘_판_물고기)\n",
        "print(오늘_잡은_물고기 <= 오늘_판_물고기)\n",
        "print(오늘_잡은_물고기 == 오늘_판_물고기) # 값, 타입을 동시에 봄\n",
        "print(오늘_잡은_물고기 != 오늘_판_물고기)\n",
        "# print(오늘_잡은_물고기 === 오늘_판_물고기) # JavaScript"
      ],
      "metadata": {
        "id": "l3wP8B7gZXvP"
      },
      "execution_count": null,
      "outputs": []
    },
    {
      "cell_type": "code",
      "source": [
        "if 5 > 오늘_판_물고기:\n",
        "    print('아직 물고기를 다 팔지 않았습니다.')"
      ],
      "metadata": {
        "id": "7m0JTH9daYHs"
      },
      "execution_count": null,
      "outputs": []
    },
    {
      "cell_type": "code",
      "source": [
        "# 논리 연산자\n",
        "\n",
        "# True - False\n",
        "a = True\n",
        "b = False\n",
        "\n",
        "a and a # 논리 곱 (*)\n",
        "a and b\n",
        "\n",
        "a or a # 논리 합 (+)\n",
        "a or b\n",
        "\n",
        "not a"
      ],
      "metadata": {
        "id": "opQtqpqOa01J"
      },
      "execution_count": null,
      "outputs": []
    },
    {
      "cell_type": "code",
      "source": [
        "오늘_잡은_물고기 = 10\n",
        "오늘_판_물고기 = 10\n",
        "전날_매출 = 10000\n",
        "오늘_매출 = 20000\n",
        "\n",
        "if (오늘_잡은_물고기 == 오늘_판_물고기) and (전날_매출*2 <= 오늘_매출):\n",
        "    print('오늘 물고기 판매 끝!')\n",
        "    print('매출 목표 달성!')\n",
        "else:\n",
        "    print('오늘의 목표를 달성하지 못했습니다.')"
      ],
      "metadata": {
        "id": "yJgnl3bqbhYU"
      },
      "execution_count": null,
      "outputs": []
    },
    {
      "cell_type": "code",
      "source": [
        "x = 15\n",
        "\n",
        "if x % 3 == 0 and x % 5 == 0:\n",
        "    print('3과 5의 공배수입니다.')\n",
        "else:\n",
        "    print('3과 5의 공배수가 아닙니다.')"
      ],
      "metadata": {
        "id": "93N2TCLOb8M0"
      },
      "execution_count": null,
      "outputs": []
    },
    {
      "cell_type": "code",
      "source": [
        "# 비트 연산자\n",
        "\n",
        "a = 10\n",
        "b = 2\n",
        "\n",
        "print(a & b)"
      ],
      "metadata": {
        "id": "8xGGwEImcUiR"
      },
      "execution_count": null,
      "outputs": []
    },
    {
      "cell_type": "code",
      "source": [
        "bin(10), bin(2)"
      ],
      "metadata": {
        "id": "hFzEiYmBcimb"
      },
      "execution_count": null,
      "outputs": []
    },
    {
      "cell_type": "code",
      "source": [
        "'''\n",
        "1010\n",
        "0010\n",
        "----\n",
        "0010 -> 2\n",
        "'''"
      ],
      "metadata": {
        "id": "Y7a3gKFGcq1B"
      },
      "execution_count": null,
      "outputs": []
    },
    {
      "cell_type": "code",
      "source": [
        "print(b << 2)"
      ],
      "metadata": {
        "id": "Af498-ebc-a5"
      },
      "execution_count": null,
      "outputs": []
    },
    {
      "cell_type": "code",
      "source": [
        "# 10 -> 2\n",
        "# 1000 -> 8"
      ],
      "metadata": {
        "id": "DKVKmYRQdAXV"
      },
      "execution_count": null,
      "outputs": []
    },
    {
      "cell_type": "code",
      "source": [
        "print(b >> 1)"
      ],
      "metadata": {
        "id": "Y37T6f64dDmg"
      },
      "execution_count": null,
      "outputs": []
    },
    {
      "cell_type": "code",
      "source": [
        "print(3 >> 1)"
      ],
      "metadata": {
        "id": "UVBBRORadFHi"
      },
      "execution_count": null,
      "outputs": []
    },
    {
      "cell_type": "code",
      "source": [
        "a^b\n",
        "'''\n",
        "1010\n",
        "0010\n",
        "----\n",
        "1000 -> 8\n",
        "'''\n",
        "a, b"
      ],
      "metadata": {
        "id": "8dSa7UOhdU3Q"
      },
      "execution_count": null,
      "outputs": []
    },
    {
      "cell_type": "code",
      "source": [
        "~a"
      ],
      "metadata": {
        "id": "hroBgrbxddmH"
      },
      "execution_count": null,
      "outputs": []
    },
    {
      "cell_type": "code",
      "source": [
        "bin(a), bin(~a) # 2의 보수 표현 방법"
      ],
      "metadata": {
        "id": "OTjJK6cKde_u"
      },
      "execution_count": null,
      "outputs": []
    },
    {
      "cell_type": "code",
      "source": [
        "''' \n",
        "101000\n",
        "001110\n",
        "001000\n",
        "'''\n",
        "a = 40\n",
        "b = 14\n",
        "a & b # 8 bit AND"
      ],
      "metadata": {
        "id": "pCcnDAsndhTG"
      },
      "execution_count": null,
      "outputs": []
    },
    {
      "cell_type": "code",
      "source": [
        "''' \n",
        "101000\n",
        "001110\n",
        "101110\n",
        "'''\n",
        "a = 40\n",
        "b = 14\n",
        "a | b # 46 bit OR"
      ],
      "metadata": {
        "id": "tuqid0EDfIiL"
      },
      "execution_count": null,
      "outputs": []
    },
    {
      "cell_type": "code",
      "source": [
        "''' \n",
        "101000\n",
        "001110\n",
        "100110\n",
        "'''\n",
        "a = 40\n",
        "b = 14\n",
        "a ^ b # 38 bit XOR"
      ],
      "metadata": {
        "id": "cp69nZqXfXcx"
      },
      "execution_count": null,
      "outputs": []
    },
    {
      "cell_type": "code",
      "source": [
        "''' \n",
        "101000\n",
        "010111 비트단위를 뒤짚음\n",
        "011000 # 비트단위를 뒤짚고 +1한 값\n",
        "'''\n",
        "a = 40\n",
        "~a # -41 bit NOT(2의 보수)\n",
        "\n",
        "# 101000\n",
        "# 011000\n",
        "# 000000\n",
        "\n",
        "# 1. 0을 2개로 표현하지 않아도 됨\n",
        "# 2. 더했을 경우 올림수 하나만 버리면 됨"
      ],
      "metadata": {
        "id": "kZGZqtClf1C4"
      },
      "execution_count": null,
      "outputs": []
    },
    {
      "cell_type": "code",
      "source": [
        "a = 40\n",
        "a << 2\n",
        "\n",
        "print(bin(a))\n",
        "print(int('10100000', 2))\n",
        "print(a << 2)\n",
        "\n",
        "print(bin(a))\n",
        "print(int('1010', 2))\n",
        "print(a >> 2)"
      ],
      "metadata": {
        "id": "dHHwm7OtgDa9"
      },
      "execution_count": null,
      "outputs": []
    },
    {
      "cell_type": "code",
      "source": [
        "# '연산자' + '='\n",
        "a = 40\n",
        "\n",
        "# a += 10 # a = a + 10\n",
        "# a -= 5 # a = a - 5\n",
        "# a *= 5\n",
        "# a **= 5\n",
        "# a /= 5\n",
        "# a //= 5\n",
        "# a %= 5\n",
        "# a |= 5\n",
        "# a &= 5\n",
        "a >>= 2\n",
        "a\n",
        "# a <<= 5\n",
        "# a ~= 5"
      ],
      "metadata": {
        "id": "pB-ej-aMgpXN"
      },
      "execution_count": null,
      "outputs": []
    },
    {
      "cell_type": "markdown",
      "source": [
        "### 연산자 우선순위\n",
        "\n",
        "1. 리스트, 튜플, 딕셔너리, 셋\n",
        "2. 인덱싱, 슬라이싱\n",
        "3. **\n",
        "4. *, @, /, //, %\n",
        "5. +, -\n",
        "6. 비트단위 연산\n",
        "7. in, not in, is, is not\n",
        "8. 논리연산(not, and, or)\n",
        "9. if, else\n",
        "10. lambda"
      ],
      "metadata": {
        "id": "VxgD9NpDh26V"
      }
    },
    {
      "cell_type": "markdown",
      "source": [
        "## 식별연산"
      ],
      "metadata": {
        "id": "YGkhMbR4iefV"
      }
    },
    {
      "cell_type": "code",
      "source": [
        "'kimido' == 'kimido'"
      ],
      "metadata": {
        "id": "Gn-kOUdUh1H_"
      },
      "execution_count": null,
      "outputs": []
    },
    {
      "cell_type": "code",
      "source": [
        "'kimido' is 'kimido' # id값 비교"
      ],
      "metadata": {
        "id": "FALLZHq_ih0U"
      },
      "execution_count": null,
      "outputs": []
    },
    {
      "cell_type": "code",
      "source": [
        "a = [1, 2, 3, 4]\n",
        "b = [1, 2, 3, 4]\n",
        "\n",
        "a == b\n",
        "a is b\n",
        "\n",
        "id(a), id(b)\n",
        "id(a[0]), id(b[0])"
      ],
      "metadata": {
        "id": "Lz7LoBMrfz1c"
      },
      "execution_count": null,
      "outputs": []
    },
    {
      "cell_type": "code",
      "source": [
        "a = 100000000000\n",
        "b = 100000000000\n",
        "\n",
        "a == b\n",
        "a is b"
      ],
      "metadata": {
        "id": "HXj7AeN1i0J6"
      },
      "execution_count": null,
      "outputs": []
    },
    {
      "cell_type": "code",
      "source": [
        "a = 100\n",
        "b = 100\n",
        "\n",
        "a == b\n",
        "a is b"
      ],
      "metadata": {
        "id": "Q5bRY_1Ri3FH"
      },
      "execution_count": null,
      "outputs": []
    },
    {
      "cell_type": "code",
      "source": [
        "a = 10\n",
        "b = a\n",
        "c = b\n",
        "\n",
        "a == c\n",
        "a is c"
      ],
      "metadata": {
        "id": "NvGeiuYxi5i8"
      },
      "execution_count": null,
      "outputs": []
    },
    {
      "cell_type": "markdown",
      "source": [
        "## in 구문"
      ],
      "metadata": {
        "id": "sYJp_JwjjgTu"
      }
    },
    {
      "cell_type": "code",
      "source": [
        "a = [1, 2, 3, 4]\n",
        "b = [1, 2, 3, 4]\n",
        "\n",
        "a == b, a is b, a in b"
      ],
      "metadata": {
        "id": "a0kUGJO-i958"
      },
      "execution_count": null,
      "outputs": []
    },
    {
      "cell_type": "code",
      "source": [
        "a = [1, 2, 3, 4]\n",
        "b = [1, 2, 3, 4]\n",
        "\n",
        "2 in b, [2] in b, [1, 2] in b\n",
        "# (True, False, False)"
      ],
      "metadata": {
        "id": "Gzb8fyoBjnb_"
      },
      "execution_count": null,
      "outputs": []
    },
    {
      "cell_type": "code",
      "source": [
        "'k' in 'kimido'"
      ],
      "metadata": {
        "id": "R0BmZx-KjrzM"
      },
      "execution_count": null,
      "outputs": []
    },
    {
      "cell_type": "code",
      "source": [
        "'kim' in 'kimido'"
      ],
      "metadata": {
        "id": "0xyibKXuj4Sm"
      },
      "execution_count": null,
      "outputs": []
    },
    {
      "cell_type": "code",
      "source": [
        "True in True # TypeError"
      ],
      "metadata": {
        "id": "rdRhy1b3jqe8"
      },
      "execution_count": null,
      "outputs": []
    },
    {
      "cell_type": "code",
      "source": [
        "10 in (10, 20, 30), (20) in (10, 20, 30), (10, 20, 30) in (10, 20, 30)\n",
        "# (True, True, False)"
      ],
      "metadata": {
        "id": "eLDqnGxwj9dR"
      },
      "execution_count": null,
      "outputs": []
    },
    {
      "cell_type": "code",
      "source": [
        "a = {10, 20, 30}\n",
        "10 in a, {10} in a, {10, 20} in a\n",
        "# (True, False, False)"
      ],
      "metadata": {
        "id": "o9zetLDXkd_n"
      },
      "execution_count": null,
      "outputs": []
    },
    {
      "cell_type": "code",
      "source": [
        "a = {'key':'value', 'key2':'value2'}\n",
        "'key' in a\n",
        "'value' in a\n",
        "('key', 'key2') in a\n",
        "{'key':'value'} in a # TypeError"
      ],
      "metadata": {
        "id": "tp7MAPyfkzlS"
      },
      "execution_count": null,
      "outputs": []
    },
    {
      "cell_type": "markdown",
      "source": [
        "# 문제: 캣의 해골섬 출항"
      ],
      "metadata": {
        "id": "HCTDYGRIjSWf"
      }
    },
    {
      "cell_type": "code",
      "source": [
        "# 1번 문제\n",
        "\n",
        "캣의_통장 = 1000000\n",
        "물고기의_가격 = 30\n",
        "잡은_물고기의_수 = 110 + 120 + 130 + 140 + 150 + 160 + 170 + 180 + 190 + 200\n",
        "물고기를_팔고_난_후_캣의_통장 = 1000000 + 잡은_물고기의_수 * 물고기의_가격"
      ],
      "metadata": {
        "id": "tZKUjPY6jVJr"
      },
      "execution_count": null,
      "outputs": []
    },
    {
      "cell_type": "code",
      "source": [
        "잡은_물고기의_수, 물고기를_팔고_난_후_캣의_통장"
      ],
      "metadata": {
        "id": "2W3qCAuujtFg"
      },
      "execution_count": null,
      "outputs": []
    },
    {
      "cell_type": "code",
      "source": [
        "잡은_물고기의_수 = (110 + 200) * 10 // 2\n",
        "잡은_물고기의_수"
      ],
      "metadata": {
        "id": "UQ3pFLK2j8of"
      },
      "execution_count": null,
      "outputs": []
    },
    {
      "cell_type": "code",
      "source": [
        "list(range(110, 201, 10))\n",
        "sum(list(range(110, 201, 10)))"
      ],
      "metadata": {
        "id": "GCyvWXIEkGTz"
      },
      "execution_count": null,
      "outputs": []
    },
    {
      "cell_type": "code",
      "source": [
        "잡은_물고기의_수 = sum([110, 120, 130, 140, 150, 160, 170, 180, 190, 200])"
      ],
      "metadata": {
        "id": "pNqxx-3kkE0V"
      },
      "execution_count": null,
      "outputs": []
    },
    {
      "cell_type": "code",
      "source": [
        "format(물고기를_팔고_난_후_캣의_통장, ',')"
      ],
      "metadata": {
        "id": "gwo77eR6jxZx"
      },
      "execution_count": null,
      "outputs": []
    },
    {
      "cell_type": "code",
      "source": [
        "# 2번 문제\n",
        "\n",
        "반지름 = 500\n",
        "고기가_잘_잡히는_반경 = 반지름 ** 2 * 3.14\n",
        "고기가_잘_잡히는_반경"
      ],
      "metadata": {
        "id": "ibXZBw9Ok1DS"
      },
      "execution_count": null,
      "outputs": []
    },
    {
      "cell_type": "code",
      "source": [
        "# 3번 문제\n",
        "\n",
        "물고기를_팔고_난_후_캣의_통장 += (고기가_잘_잡히는_반경 - 314) * 110 * 물고기의_가격"
      ],
      "metadata": {
        "id": "GoKWnCQWk-Wq"
      },
      "execution_count": null,
      "outputs": []
    },
    {
      "cell_type": "code",
      "source": [
        "format(int(물고기를_팔고_난_후_캣의_통장), ',')"
      ],
      "metadata": {
        "id": "0wg-TnTblWAa"
      },
      "execution_count": null,
      "outputs": []
    },
    {
      "cell_type": "code",
      "source": [
        "# 4번 문제\n",
        "# A등급은 350마리, B등급은 700마리\n",
        "\n",
        "문제4_물고기_등급 = {'A등급':100, 'B등급':50}\n",
        "문제4_잡은_물고기의_수 = {'A등급':350, 'B등급':700}\n",
        "\n",
        "문제4_총액_A등급 = 문제4_물고기_등급['A등급'] * 문제4_잡은_물고기의_수['A등급']\n",
        "문제4_총액_B등급 = 문제4_물고기_등급['B등급'] * 문제4_잡은_물고기의_수['B등급']\n",
        "\n",
        "문제4_총액 = 문제4_총액_A등급 + 문제4_총액_B등급\n",
        "문제4_총액\n",
        "\n",
        "문제4_비율 = {'A등급':문제4_총액_A등급/70000*100, 'B등급':문제4_총액_B등급/70000*100}\n",
        "문제4_비율"
      ],
      "metadata": {
        "id": "pv6v5M7mlgDA"
      },
      "execution_count": null,
      "outputs": []
    },
    {
      "cell_type": "code",
      "source": [
        "def 낚시():\n",
        "    print('A등급 생선을 한 마리 잡았습니다.')\n",
        "# print('B등급 생선을 한 마리 잡았습니다.')\n",
        "\n",
        "def 그물():\n",
        "    print('A등급 3마리, B등급 3마리, C등급 4마리를 잡았습니다.')\n",
        "\n",
        "def 통발():\n",
        "    print('문어를 한 마리 잡았습니다.')\n",
        "\n",
        "# 함수 호출하기\n",
        "낚시()\n",
        "그물()\n",
        "통발()"
      ],
      "metadata": {
        "id": "j56SNMgyVMUT"
      },
      "execution_count": null,
      "outputs": []
    },
    {
      "cell_type": "code",
      "source": [
        "def f(x, y):\n",
        "    z = x + y\n",
        "    return z\n",
        "\n",
        "# A등급 10마리, B등급 9마리\n",
        "print('오늘 잡은 생선: ', f(10, 9))"
      ],
      "metadata": {
        "id": "sRV-fjASVk61"
      },
      "execution_count": null,
      "outputs": []
    },
    {
      "cell_type": "code",
      "source": [
        "낚시()\n",
        "print(낚시())"
      ],
      "metadata": {
        "id": "cTHpH7RcXn0C"
      },
      "execution_count": null,
      "outputs": []
    },
    {
      "cell_type": "code",
      "source": [
        "def 계산(가격, 개수):\n",
        "    return 가격 * 개수\n",
        "\n",
        "print(계산(1000, 5), '원입니다.')"
      ],
      "metadata": {
        "id": "stfNKS1YYMR6"
      },
      "execution_count": null,
      "outputs": []
    },
    {
      "cell_type": "code",
      "source": [
        "# A등급: 1000원, B등급: 500원, C등급: 100원\n",
        "\n",
        "def 계산(a, b, c):\n",
        "    가격 = {'A등급': 1000, 'B등급': 500, 'C등급': 100}\n",
        "    합계 = a*가격['A등급'] + b*가격['B등급'] + c*가격['C등급']\n",
        "    return 합계\n",
        "\n",
        "print(계산(5, 2, 3), '원입니다.')"
      ],
      "metadata": {
        "id": "7fpSWYQ3YbC7"
      },
      "execution_count": null,
      "outputs": []
    },
    {
      "cell_type": "code",
      "source": [
        "# 상수\n",
        "\n",
        "PI = 3.14\n",
        "def circle(r):\n",
        "    z = r * r * PI\n",
        "    return z\n",
        "\n",
        "result = circle(10)\n",
        "print(result)"
      ],
      "metadata": {
        "id": "XsaljM_MYFFm"
      },
      "execution_count": null,
      "outputs": []
    },
    {
      "cell_type": "code",
      "source": [
        "# global, 전역변수\n",
        "\n",
        "A등급 = 0\n",
        "\n",
        "def 낚시():\n",
        "    global A등급\n",
        "    A등급 += 1\n",
        "\n",
        "낚시()\n",
        "낚시()\n",
        "낚시()\n",
        "\n",
        "print(f'잡은 A등급 물고기는 {A등급}마리 입니다.')"
      ],
      "metadata": {
        "id": "RBpXrJgea2MD"
      },
      "execution_count": null,
      "outputs": []
    },
    {
      "cell_type": "code",
      "source": [
        "# global, 전역변수\n",
        "\n",
        "A등급 = 0\n",
        "\n",
        "def 낚시(물고기):\n",
        "    물고기 += 1\n",
        "    return 물고기\n",
        "\n",
        "A등급 = 낚시(A등급)\n",
        "A등급 = 낚시(A등급)\n",
        "A등급 = 낚시(A등급)\n",
        "\n",
        "print(f'잡은 A등급 물고기는 {A등급}마리 입니다.')"
      ],
      "metadata": {
        "id": "mOmXdlA0Vc9I"
      },
      "execution_count": null,
      "outputs": []
    },
    {
      "cell_type": "code",
      "source": [
        "# 함수 안에 함수 만들기\n",
        "\n",
        "def print_text():\n",
        "    text = '생선을 잡아보자!'\n",
        "    def txt():\n",
        "        print(text)\n",
        "    txt()\n",
        "\n",
        "print_text()"
      ],
      "metadata": {
        "id": "RiyovAcZbFvr"
      },
      "execution_count": null,
      "outputs": []
    },
    {
      "cell_type": "code",
      "source": [
        "def 생선잡기():\n",
        "    물고기 = {'A등급':0, 'B등급':0, 'C등급':0}\n",
        "\n",
        "    def 낚시():\n",
        "        물고기['A등급'] += 1\n",
        "\n",
        "    def 그물():\n",
        "        물고기['A등급'] += 3\n",
        "        물고기['B등급'] += 3\n",
        "        물고기['C등급'] += 4\n",
        "\n",
        "    def 통발():\n",
        "        물고기['문어'] = 1\n",
        "\n",
        "    낚시()\n",
        "    그물()\n",
        "    통발()\n",
        "\n",
        "    return 물고기\n",
        "\n",
        "생선잡기()\n",
        "# sum(생선잡기().values())"
      ],
      "metadata": {
        "id": "QJ2v9nUVeRhF"
      },
      "execution_count": null,
      "outputs": []
    },
    {
      "cell_type": "code",
      "source": [
        "# dictionary는 함수 안에서도 값의 수정이 가능합니다!\n",
        "\n",
        "물고기 = {'A등급':0, 'B등급':0, 'C등급':0}\n",
        "\n",
        "def 낚시():\n",
        "    물고기['A등급'] += 1\n",
        "\n",
        "낚시()\n",
        "물고기"
      ],
      "metadata": {
        "id": "LNzrrBQafFTa"
      },
      "execution_count": null,
      "outputs": []
    },
    {
      "cell_type": "code",
      "source": [
        "def factorial(x):\n",
        "    if x == 1:\n",
        "        return 1\n",
        "    else:\n",
        "        return x * factorial(x-1)\n",
        "\n",
        "factorial(5)"
      ],
      "metadata": {
        "id": "ff7cpXDwfO_l"
      },
      "execution_count": null,
      "outputs": []
    },
    {
      "cell_type": "code",
      "source": [
        "# 캣의 직원 채용\n",
        "\n",
        "성실성 = 85\n",
        "프로그래밍능력 = 70\n",
        "\n",
        "if 성실성 >= 80 and 프로그래밍능력 >= 70:\n",
        "    print('합격입니다.')\n",
        "    if 성실성 >= 90:\n",
        "        print('보너스를 드리겠습니다.')"
      ],
      "metadata": {
        "id": "yHIue5B5f7Xo"
      },
      "execution_count": null,
      "outputs": []
    },
    {
      "cell_type": "code",
      "source": [
        "# A등급: 1000원, B등급: 500원, C등급: 100원\n",
        "\n",
        "def 계산(a, b, c):\n",
        "    가격 = {'A등급': 1000, 'B등급': 500, 'C등급': 100}\n",
        "    합계 = a*가격['A등급'] + b*가격['B등급'] + c*가격['C등급']\n",
        "    return 합계\n",
        "\n",
        "총합 = 계산(10, 2, 3)\n",
        "\n",
        "if 총합 >= 10000:\n",
        "    print('할인을 해주겠다냥!')\n",
        "    print(f'총 {int(총합*0.9)}노드를 내면 된다냥!') # 10% 할인\n",
        "else:\n",
        "    print(f'총 {총합}노드를 내면 된다냥!')"
      ],
      "metadata": {
        "id": "EAzZwDrRhj2-"
      },
      "execution_count": null,
      "outputs": []
    },
    {
      "cell_type": "code",
      "source": [
        "if True:\n",
        "    print('one')\n",
        "else:\n",
        "    print('two')"
      ],
      "metadata": {
        "id": "3l0Cb-5df4R2"
      },
      "execution_count": null,
      "outputs": []
    },
    {
      "cell_type": "code",
      "source": [
        "# 캣의 직원 채용\n",
        "\n",
        "성실성 = int(input('성실성을 입력하세요: '))\n",
        "프로그래밍능력 = int(input('프로그래밍능력을 입력하세요: '))\n",
        "\n",
        "if 성실성 >= 80 and 프로그래밍능력 >= 70:\n",
        "    print('합격입니다.')\n",
        "    if 성실성 >= 90:\n",
        "        print('보너스를 드리겠습니다.')\n",
        "else:\n",
        "    print('불합격입니다.')"
      ],
      "metadata": {
        "id": "1DqJZSO4fMot"
      },
      "execution_count": null,
      "outputs": []
    },
    {
      "cell_type": "code",
      "source": [
        "# 거스름돈\n",
        "가격 = int(input('가격을 입력하세요: '))\n",
        "받은돈 = int(input('받은돈을 입력하세요: '))\n",
        "\n",
        "if 가격 < 받은돈:\n",
        "    print('여기 거스름돈',받은돈-가격,'원입니다.')\n",
        "elif 가격 > 받은돈:\n",
        "    print(가격-받은돈,'원이 부족합니다')\n",
        "else:\n",
        "    print('감사합니다.')"
      ],
      "metadata": {
        "id": "1GDVJh7rikeZ"
      },
      "execution_count": null,
      "outputs": []
    },
    {
      "cell_type": "code",
      "source": [
        "# A등급: 1000원, B등급: 500원, C등급: 100원\n",
        "\n",
        "def 계산(a, b, c):\n",
        "    가격 = {'A등급': 1000, 'B등급': 500, 'C등급': 100}\n",
        "    합계 = a*가격['A등급'] + b*가격['B등급'] + c*가격['C등급']\n",
        "    return 합계\n",
        "\n",
        "총합 = 계산(20, 2, 3)\n",
        "print(총합)\n",
        "\n",
        "if 총합 >= 20000:\n",
        "    print('20% 할인을 해주겠다냥!')\n",
        "    print(f'총 {int(총합*0.8)}노드를 내면 된다냥!') # 20% 할인\n",
        "elif 총합 >= 10000:\n",
        "    print('10% 할인을 해주겠다냥!')\n",
        "    print(f'총 {int(총합*0.9)}노드를 내면 된다냥!') # 10% 할인\n",
        "elif 총합 >= 5000:\n",
        "    print('5% 할인을 해주겠다냥!')\n",
        "    print(f'총 {int(총합*0.95)}노드를 내면 된다냥!') # 5% 할인\n",
        "else:\n",
        "    print(f'총 {총합}노드를 내면 된다냥!')"
      ],
      "metadata": {
        "id": "8iumerrGjLI_"
      },
      "execution_count": null,
      "outputs": []
    },
    {
      "cell_type": "code",
      "source": [
        "# 문제 1번\n",
        "\n",
        "회원명 = input('회원명을 입력하세요: ')\n",
        "회원 = ['A캣', 'B캣', 'C캣']\n",
        "\n",
        "def 회원등록(in_회원명):\n",
        "    회원.append(in_회원명)\n",
        "    print(회원)\n",
        "    print('회원으로 등록되었습니다.')\n",
        "\n",
        "if 회원명 in 회원:\n",
        "    print('이미 등록된 회원입니다.')\n",
        "else:\n",
        "    회원등록(회원원)"
      ],
      "metadata": {
        "id": "kR2SGqL5sBSj"
      },
      "execution_count": null,
      "outputs": []
    },
    {
      "cell_type": "code",
      "source": [
        "회원명 = input('회원명을 입력하세요: ')\n",
        "회원 = ['A캣', 'B캣', 'C캣']\n",
        "\n",
        "def 회원등록(in_회원명, l):\n",
        "    회원.append(in_회원명)\n",
        "    print(l)\n",
        "    print('회원으로 등록되었습니다.')\n",
        "\n",
        "if 회원명 in 회원:\n",
        "    print('이미 등록된 회원입니다.')\n",
        "else:\n",
        "    회원등록(회원명, 회원)"
      ],
      "metadata": {
        "id": "TcCdzC6zr9hO"
      },
      "execution_count": null,
      "outputs": []
    },
    {
      "cell_type": "code",
      "source": [
        "# 문제 2번\n",
        "# 애옹이와 냐옹이는 생선을 각각 15,000노드, 5,000노드\n",
        "# 회원은 구매금액에 10% 적립\n",
        "\n",
        "구매가격 = input('가격을 입력하세요: ')\n",
        "회원명 = input('회원명을 입력하세요: ')\n",
        "\n",
        "회원 = ['씨-캣', '자바캣', '파이캣', '썬캣', '애옹']\n",
        "\n",
        "if 회원명 in 회원:\n",
        "    print('회원입니다.')\n",
        "    print(f'{구매가격}노드 중에 {int(구매가격)*0.1}노드가 적립 금액으로 적립됩니다.')\n",
        "else:\n",
        "    print('회원이 아닙니다. 회원가입을 해주세요.')"
      ],
      "metadata": {
        "id": "A26zNCNgv844"
      },
      "execution_count": null,
      "outputs": []
    },
    {
      "cell_type": "code",
      "source": [
        "# 문제 3번\n",
        "\n",
        "구매가격 = int(input('가격을 입력하세요: '))\n",
        "회원명 = input('회원명을 입력하세요: ')\n",
        "\n",
        "# 회원 = {회원명:적립금}\n",
        "회원 = {'씨-캣':5000, '자바캣':3500, '파이캣':15000, '썬캣':7000}\n",
        "\n",
        "if 회원명 in 회원:\n",
        "    if 회원[회원명] >= 10000:\n",
        "        print(f'적립금을 사용할 수 있습니다. 현재 적립금액은 {회원[회원명]}노드입니다.')\n",
        "        사용할_포인트 = int(input('사용할 적립금 노드를 입력하세요: '))\n",
        "        결제할_금액 = 구매가격 - 사용할_포인트\n",
        "        남은_적립금 = 회원[회원명] - 결제할_금액\n",
        "        회원[회원명] = 남은_적립금 + 결제할_금액 * 0.1\n",
        "        print(f'{사용할_포인트}노드를 사용하였습니다. 남은 적립금에 결제할 포인트를 합산한 노드는 {남은_적립금}노드입니다. 결제금액은 {결제할_금액액}입니다.')\n",
        "    else:\n",
        "        적립될_포인트 = 구매가격 * 0.1\n",
        "        print(f'현재 적립금이 {회원[회원명]}노드이므로 아직 적립금을 사용할 수 없습니다.')\n",
        "        print(f'결제금액은 {구매가격}노드이고, 적립 포인트는 {적립될_포인트}노드, 합산 포인트는 {적립될_포인트 + 회원[회원명]}노드입니다.')\n",
        "        회원[회원명] += 적립될_포인트\n",
        "\n",
        "print(회원)\n",
        "# In 가격을 입력하세요: 10000\n",
        "# In 회원명을 입력하세요: 파이캣\n",
        "# Out 적립금을 사용할 수 있습니다. 현재 적립금액은 15000노드 입니다.\n",
        "# In 사용할 적립금 노드를 입력하세요: 5000\n",
        "# Out 5000노드를 사용하였습니다. 남은 적립금은 10000노드입니다. 결제금액은 5000원입니다.\n",
        "\n",
        "# ---\n",
        "\n",
        "# 가격을 입력하세요: 10000\n",
        "# 회원명을 입력하세요: 썬캣\n",
        "# 현재 적립금이 7000노드이므로 아직 적립금을 사용할 수 없습니다.\n",
        "# 결제금액은 10000노드이고, 적립 포인트는 1000노드, 합산 포인트는 8000노드입니다."
      ],
      "metadata": {
        "id": "518hs66YxEt_"
      },
      "execution_count": null,
      "outputs": []
    },
    {
      "cell_type": "code",
      "source": [
        "# 문제 4번\n",
        "\n",
        "def 배수(n):\n",
        "    def 적립(value):\n",
        "        return (value * 0.1) * n\n",
        "    return 적립\n",
        "\n",
        "Feb = 배수(2)\n",
        "Mar = 배수(3)\n",
        "\n",
        "print('2월 적립금 이벤트: ', Feb(5000))\n",
        "print('3월 적립금 이벤트: ', Mar(15000))"
      ],
      "metadata": {
        "id": "V2VNECnuBtJG"
      },
      "execution_count": null,
      "outputs": []
    },
    {
      "cell_type": "code",
      "source": [
        "for x in (1, 2, 3, 4, 5):\n",
        "    print(f'고등어 포장 {x}번째 입니다.')"
      ],
      "metadata": {
        "id": "BIKtsnu_DTCD"
      },
      "execution_count": null,
      "outputs": []
    },
    {
      "cell_type": "code",
      "source": [
        "for x in '1, 2, 3, 4, 5':\n",
        "    print(f'고등어 포장 {x}번째 입니다.')"
      ],
      "metadata": {
        "id": "On32HxcDDY5R"
      },
      "execution_count": null,
      "outputs": []
    },
    {
      "cell_type": "code",
      "source": [
        "왕국 = '위니브 월드'\n",
        "for a in 왕국:\n",
        "    print(a)\n",
        "    print('------------')"
      ],
      "metadata": {
        "id": "h-uWwlD0Drt7"
      },
      "execution_count": null,
      "outputs": []
    },
    {
      "cell_type": "code",
      "source": [
        "왕국 = '위니브 월드'\n",
        "for a in 왕국:\n",
        "    print(a)\n",
        "print('------------')"
      ],
      "metadata": {
        "id": "EzX1ODJREGnO"
      },
      "execution_count": null,
      "outputs": []
    },
    {
      "cell_type": "code",
      "source": [
        "기술 = ['고기잡기', '고기팔기', '낚시_Lv1', '통발_Lv1', '큰그물_Lv1']\n",
        "for a in 기술:\n",
        "    print(a)\n",
        "    print(a[:2])"
      ],
      "metadata": {
        "id": "RcIMw18hEI5H"
      },
      "execution_count": null,
      "outputs": []
    },
    {
      "cell_type": "code",
      "source": [
        "기술 = ['고기잡기', '고기팔기', '낚시_Lv1', '통발_Lv1', '큰그물_Lv1']\n",
        "for a in 기술:\n",
        "    print(a)\n",
        "    print(a[:2])\n",
        "    print(a[:-4])\n",
        "    print(a[:a.find('_')])\n",
        "    print('--------')"
      ],
      "metadata": {
        "id": "rFeHyANjH-QM"
      },
      "execution_count": null,
      "outputs": []
    },
    {
      "cell_type": "code",
      "source": [
        "캣의_상태창 = {\n",
        "    '이름':'캣',\n",
        "    '설명':'위니브 월드에서 가장 급성장하는 생선회사 대표 캣',\n",
        "    '나이':'19',\n",
        "    '키':'45.9cm',\n",
        "    '몸무게':1.6,\n",
        "}\n",
        "\n",
        "for a in 캣의_상태창:\n",
        "    print(a, 캣의_상태창[a])"
      ],
      "metadata": {
        "id": "QzE35Pq3H5hJ"
      },
      "execution_count": null,
      "outputs": []
    },
    {
      "cell_type": "code",
      "source": [
        "캣의_상태창.items()"
      ],
      "metadata": {
        "id": "fvQTQc3-eCm6"
      },
      "execution_count": null,
      "outputs": []
    },
    {
      "cell_type": "code",
      "source": [
        "for a, b in 캣의_상태창.items():\n",
        "    print(f'{a}:{b}')"
      ],
      "metadata": {
        "id": "vUuslQL5d8J0"
      },
      "execution_count": null,
      "outputs": []
    },
    {
      "cell_type": "code",
      "source": [
        "for a in 캣의_상태창.items():\n",
        "    print(f'{a[0]}: {a[1]}')"
      ],
      "metadata": {
        "id": "G2VfGSCqeQF-"
      },
      "execution_count": null,
      "outputs": []
    },
    {
      "cell_type": "code",
      "source": [
        "# range(start, stop, step)\n",
        "\n",
        "print(type(range(2, 10, 2)))\n",
        "print(list(range(10))) # stop 값만 있는 상태\n",
        "print(list(range(5, 0, -1)))\n",
        "print(list(range(2, 10)))"
      ],
      "metadata": {
        "id": "GIba1HfOeYM3"
      },
      "execution_count": null,
      "outputs": []
    },
    {
      "cell_type": "code",
      "source": [
        "listx = [100, 200, 300, 400]\n",
        "strx = 'abcd'\n",
        "listxiter = iter(listx)\n",
        "strxiter = iter(strx)\n",
        "print(next(listxiter),next(listxiter),next(listxiter),next(listxiter),)\n",
        "print(next(strxiter),next(strxiter),next(strxiter),next(strxiter),)"
      ],
      "metadata": {
        "id": "DToKUyNLfEpd"
      },
      "execution_count": null,
      "outputs": []
    },
    {
      "cell_type": "code",
      "source": [
        "# for, else\n",
        "\n",
        "for i in range(5):\n",
        "    print(f'{i}마리의 물고기를 잡았습니다.')\n",
        "    if i == 10:\n",
        "        print('만선입니다.')\n",
        "        break\n",
        "else:\n",
        "    print('아직 여유가 좀 있지만, 물고기가 더 없는 것 같으니 이 정도로 만족하고 돌아갑시다.')\n",
        "print('수고하셨습니다.')"
      ],
      "metadata": {
        "id": "BNkiqaGMeXSs"
      },
      "execution_count": null,
      "outputs": []
    },
    {
      "cell_type": "code",
      "source": [
        "# list comprehension\n",
        "\n",
        "l = []\n",
        "\n",
        "for i in range(1, 101):\n",
        "    l.append(i)\n",
        "l\n",
        "\n",
        "ll = [i for i in range(1, 101)]\n",
        "ll"
      ],
      "metadata": {
        "id": "o99hVQqLfuTt"
      },
      "execution_count": null,
      "outputs": []
    },
    {
      "cell_type": "code",
      "source": [
        "for i in range(2, 10):\n",
        "    for j in range(1, 10):\n",
        "        print(f'{i} x {j} = {i * j}')"
      ],
      "metadata": {
        "id": "Qhj1Hkn5gXUx"
      },
      "execution_count": null,
      "outputs": []
    },
    {
      "cell_type": "code",
      "source": [
        "l = [f'{i} x {j} = {i * j}' for i in range(2, 10) for j in range(1, 10)]\n",
        "l"
      ],
      "metadata": {
        "id": "Hx8JPw_ig2hi"
      },
      "execution_count": null,
      "outputs": []
    },
    {
      "cell_type": "code",
      "source": [
        "l = [f'{i} x {j} = {i * j}' for i in range(2, 10, 2) for j in range(1, 10)]\n",
        "l"
      ],
      "metadata": {
        "id": "p4mQi8bOfofk"
      },
      "execution_count": null,
      "outputs": []
    },
    {
      "cell_type": "code",
      "source": [
        "l = [f'{i} x {j} = {i * j}' for i in range(2, 10) for j in range(1, 10) if i % 2 == 0]\n",
        "l"
      ],
      "metadata": {
        "id": "Yy8B5YBrhoEu"
      },
      "execution_count": null,
      "outputs": []
    },
    {
      "cell_type": "code",
      "source": [
        "# 다중 리스트 for문\n",
        "skill = [\n",
        "        ('고기잡이', 100, 'SS'),\n",
        "        ('고기팔기', 120, 'SSS'),\n",
        "        ('낚시', 5, 'C'),\n",
        "        ('통발', 5, 'C'),\n",
        "        ('큰그물', 5, 'C'),\n",
        "]\n",
        "\n",
        "for skill_name, skill_level, skill_grade in skill:\n",
        "    print(skill_name, skill_level, skill_grade)"
      ],
      "metadata": {
        "id": "oC49v1cehtAl"
      },
      "execution_count": null,
      "outputs": []
    },
    {
      "cell_type": "code",
      "source": [
        "# enumerate\n",
        "\n",
        "skill = [\n",
        "        ('고기잡이', 100, 'SS'),\n",
        "        ('고기팔기', 120, 'SSS'),\n",
        "        ('낚시', 5, 'C'),\n",
        "        ('통발', 5, 'C'),\n",
        "        ('큰그물', 5, 'C'),\n",
        "]\n",
        "\n",
        "for i, (skill_name, skill_level, skill_grade) in enumerate(skill, 1):\n",
        "    print(i, skill_name, skill_level, skill_grade)\n",
        "\n",
        "for i, j in enumerate(skill, 100):\n",
        "    print(i, j)"
      ],
      "metadata": {
        "id": "Qqu1H92qiUAm"
      },
      "execution_count": null,
      "outputs": []
    },
    {
      "cell_type": "code",
      "source": [
        "for i in range(5):\n",
        "    num = int(input('고등어 몇 개를 구매하실 건가요?'))\n",
        "    result = num * 5000\n",
        "    print(result,'원 입니다.')\n",
        "\n",
        "print('로봇이 종료되었습니다. 삐빅빅')"
      ],
      "metadata": {
        "id": "8ecl-K6wl8RI"
      },
      "execution_count": null,
      "outputs": []
    },
    {
      "cell_type": "code",
      "source": [
        "고등어 = 50\n",
        "for i in range(5):\n",
        "    num = int(input('고등어 몇 개를 구매하실 건가요?'))\n",
        "    result = num * 5000\n",
        "    print(result,'원 입니다.')\n",
        "    고등어 -= num\n",
        "    if 고등어 == 0:\n",
        "        print('재고가 전부 소진되었습니다. 삐빅')\n",
        "        break"
      ],
      "metadata": {
        "id": "y4v2q_3Ti0SN"
      },
      "execution_count": null,
      "outputs": []
    },
    {
      "cell_type": "code",
      "source": [
        "# while\n",
        "\n",
        "a = 1\n",
        "while a < 10:\n",
        "    print(a)\n",
        "    a += 1\n",
        "print('종료되었습니다.')"
      ],
      "metadata": {
        "id": "ELu1BA9yj8vN"
      },
      "execution_count": null,
      "outputs": []
    },
    {
      "cell_type": "code",
      "source": [
        "while True:\n",
        "    num = int(input('고등어 몇 개를 구매하실 건가요?'))\n",
        "    result = num * 5000\n",
        "    print(result,'원 입니다.')\n",
        "    if num == -1:\n",
        "        break\n",
        "        \n",
        "print('로봇이 종료되었습니다. 삐빅빅')"
      ],
      "metadata": {
        "id": "BLGIrLehlxXX"
      },
      "execution_count": null,
      "outputs": []
    },
    {
      "cell_type": "code",
      "source": [
        "fish = 5\n",
        "while True:\n",
        "    print('고등어', fish, '개 남았습니다.')\n",
        "    fish -= 1\n",
        "    if fish == 0:\n",
        "        print('고등어 다 팔렸습니다.')\n",
        "        break"
      ],
      "metadata": {
        "id": "3xLj9_yZnBMl"
      },
      "execution_count": null,
      "outputs": []
    },
    {
      "cell_type": "code",
      "source": [
        "fish = 5\n",
        "while True:\n",
        "    num = int(input('고등어 몇 개를 구매하실 건가요?'))\n",
        "    if fish >= num:\n",
        "        fish = fish - num\n",
        "        print('고등어', fish, '개 남았습니다.')\n",
        "        if fish == 0:\n",
        "            print('완판되었습니다.')\n",
        "            break\n",
        "    else:\n",
        "        print('손님, 죄송하지만 구매할 수 있는 고등어', fish, '개 남았습니다.')\n",
        "        fish = 0\n",
        "        break"
      ],
      "metadata": {
        "id": "WvHlrhXCiBXI"
      },
      "execution_count": null,
      "outputs": []
    },
    {
      "cell_type": "code",
      "source": [
        "fish = 5\n",
        "while fish > 0:\n",
        "    print('고등어', fish, '개 남았습니다.')\n",
        "    # if fish < 3:\n",
        "    #     break\n",
        "    fish -= 1\n",
        "else:\n",
        "    print('고등어 다팔렸습니다.')"
      ],
      "metadata": {
        "id": "F6p6zjy8nUbN"
      },
      "execution_count": null,
      "outputs": []
    },
    {
      "cell_type": "code",
      "source": [
        "for i in range(2, 10):\n",
        "    for j in range(1, 10):\n",
        "        if j > 5:\n",
        "            break\n",
        "        print(f'{i} x {j} = {i * j}')"
      ],
      "metadata": {
        "id": "LFxdi7UDoOCw"
      },
      "execution_count": null,
      "outputs": []
    },
    {
      "cell_type": "code",
      "source": [
        "# continue, pass\n",
        "\n",
        "x = 10\n",
        "if x > 10:\n",
        "    pass\n",
        "print('hello')\n",
        "\n",
        "def test():\n",
        "    pass"
      ],
      "metadata": {
        "id": "z56iE7eqodT6"
      },
      "execution_count": null,
      "outputs": []
    },
    {
      "cell_type": "code",
      "source": [
        "# continue\n",
        "구매개수_총가격 = [\n",
        "    (3, 15000),\n",
        "    (5, 25000),\n",
        "    (1, 5000),\n",
        "    (8, 40000),\n",
        "    (0, 0),\n",
        "    (2, 10000),\n",
        "]\n",
        "\n",
        "for 구매개수, 총가격 in 구매개수_총가격:\n",
        "    if 구매개수 < 1:\n",
        "        continue\n",
        "    print(f'구매개수는 {구매개수}개이며 {총가격}원입니다.')"
      ],
      "metadata": {
        "id": "EuXOrX84or7C"
      },
      "execution_count": null,
      "outputs": []
    },
    {
      "cell_type": "code",
      "source": [
        "try:\n",
        "    i = 1\n",
        "    j = 0\n",
        "    x = i/j\n",
        "except:\n",
        "    print('error')\n",
        "else:\n",
        "    print(x)"
      ],
      "metadata": {
        "id": "3itPUYZjpSMM"
      },
      "execution_count": null,
      "outputs": []
    },
    {
      "cell_type": "code",
      "source": [
        "temp = 0\n",
        "\n",
        "for i in range(10):\n",
        "    for j in range(10):\n",
        "        for k in range(10):\n",
        "            temp += 1\n",
        "\n",
        "print(temp)"
      ],
      "metadata": {
        "id": "ZCiproKToqAQ"
      },
      "execution_count": null,
      "outputs": []
    },
    {
      "cell_type": "markdown",
      "source": [
        "## 사자탈을 쓴 캣"
      ],
      "metadata": {
        "id": "USN_dYGMrOir"
      }
    },
    {
      "cell_type": "code",
      "source": [
        "# 1. 왕의 충성스런 신하는 아래와 같다. 왕의 신하가 총 몇 명인지 구하라.\n",
        "신하 = {\n",
        "    '하이에나' : 1121,\n",
        "    '코뿔소' : 122,\n",
        "    '코끼리' : 88,\n",
        "    '기린' : 119,\n",
        "    '독수리' : 62,\n",
        "    '고양이' : 31,\n",
        "}\n",
        "\n",
        "모든_신하의_합 = 0\n",
        "for i in 신하:\n",
        "    print(f'{i} : {신하[i]}')\n",
        "    모든_신하의_합 += 신하[i]\n",
        "\n",
        "print(모든_신하의_합)"
      ],
      "metadata": {
        "id": "mesuzWQsqTqo"
      },
      "execution_count": null,
      "outputs": []
    },
    {
      "cell_type": "code",
      "source": [
        "# 2. 이웃 왕국의 침략이 있어 출전 준비해야 한다.\n",
        "#    100명 이상인 좋은 출전을! 100명 이하인 종은 왕국을 수호한다.\n",
        "#    출전 신하는 몇 명이고, 왕국을 수호하는 신하는 몇 명인가?\n",
        "\n",
        "신하 = {\n",
        "    '하이에나' : 1121,\n",
        "    '코뿔소' : 122,\n",
        "    '코끼리' : 88,\n",
        "    '기린' : 119,\n",
        "    '독수리' : 62,\n",
        "    '고양이' : 31,\n",
        "}\n",
        "\n",
        "모든_신하의_합 = 0\n",
        "출전하는_신하 = 0\n",
        "왕국을_수호하는_신하 = 0\n",
        "\n",
        "for i in 신하:\n",
        "    print(f'{i} : {신하[i]}')\n",
        "    모든_신하의_합 += 신하[i]\n",
        "    if 신하[i] >= 100:\n",
        "        출전하는_신하 += 신하[i]\n",
        "    else:\n",
        "        왕국을_수호하는_신하 += 신하[i]\n",
        "\n",
        "print(f'모든_신하의_합: {모든_신하의_합}')\n",
        "print(f'출전하는_신하: {출전하는_신하}')\n",
        "print(f'왕국을_수호하는_신하: {왕국을_수호하는_신하}')\n",
        "print(모든_신하의_합 == 출전하는_신하 + 왕국을_수호하는_신하)"
      ],
      "metadata": {
        "id": "EyOYI5deryVh"
      },
      "execution_count": null,
      "outputs": []
    },
    {
      "cell_type": "code",
      "source": [
        "# 3. 침략을 방어하고, 출전했던 신하들은 각각 80%라는 큰 손실은 입었습니다.\n",
        "#    왕국을 수호하는 신하까지 총 얼마의 신하가 남아있나요? \n",
        "\n",
        "신하 = {\n",
        "    '하이에나' : 1121,\n",
        "    '코뿔소' : 122,\n",
        "    '코끼리' : 88,\n",
        "    '기린' : 119,\n",
        "    '독수리' : 62,\n",
        "    '고양이' : 31,\n",
        "}\n",
        "\n",
        "모든_신하의_합 = 0\n",
        "출전하는_신하 = 0\n",
        "왕국을_수호하는_신하 = 0\n",
        "출전_후_돌아온_신하 = 0\n",
        "\n",
        "for i in 신하:\n",
        "    print(f'{i} : {신하[i]}')\n",
        "    모든_신하의_합 += 신하[i]\n",
        "    if 신하[i] >= 100:\n",
        "        출전하는_신하 += 신하[i]\n",
        "        출전_후_돌아온_신하 += 신하[i] * 0.2\n",
        "    else:\n",
        "        왕국을_수호하는_신하 += 신하[i]\n",
        "\n",
        "print(f'모든_신하의_합: {모든_신하의_합}')\n",
        "print(f'출전하는_신하: {출전하는_신하}')\n",
        "print(f'왕국을_수호하는_신하: {왕국을_수호하는_신하}')\n",
        "print(f'출전_후_돌아온_신하: {int(출전_후_돌아온_신하)}')\n",
        "print(f'사상자: {출전하는_신하 - int(출전_후_돌아온_신하)}')\n",
        "print(모든_신하의_합 == 출전하는_신하 + 왕국을_수호하는_신하)"
      ],
      "metadata": {
        "id": "1X0UrKcts9_E"
      },
      "execution_count": null,
      "outputs": []
    },
    {
      "cell_type": "code",
      "source": [],
      "metadata": {
        "id": "O91NG5Xutlkr"
      },
      "execution_count": null,
      "outputs": []
    },
    {
      "cell_type": "code",
      "source": [],
      "metadata": {
        "id": "R5px02N1rvnI"
      },
      "execution_count": null,
      "outputs": []
    }
  ]
}